{
  "nbformat": 4,
  "nbformat_minor": 0,
  "metadata": {
    "colab": {
      "name": "4B_Week_2_Offline_Fashion_MNIST_ML_Monitoring_Assignment.ipynb",
      "provenance": [],
      "collapsed_sections": [],
      "include_colab_link": true
    },
    "kernelspec": {
      "name": "python3",
      "display_name": "Python 3"
    },
    "accelerator": "GPU",
    "widgets": {
      "application/vnd.jupyter.widget-state+json": {
        "c4e5ab5a6fb14172a08dcad6dcf76210": {
          "model_module": "@jupyter-widgets/controls",
          "model_name": "HBoxModel",
          "state": {
            "_view_name": "HBoxView",
            "_dom_classes": [],
            "_model_name": "HBoxModel",
            "_view_module": "@jupyter-widgets/controls",
            "_model_module_version": "1.5.0",
            "_view_count": null,
            "_view_module_version": "1.5.0",
            "box_style": "",
            "layout": "IPY_MODEL_2d5bac545f624f5781c7c390b0e49ac2",
            "_model_module": "@jupyter-widgets/controls",
            "children": [
              "IPY_MODEL_d9795d543cf34e7f83d4acc3c60fd832",
              "IPY_MODEL_436e15ec817d4d579041d8fb28966cf7"
            ]
          }
        },
        "2d5bac545f624f5781c7c390b0e49ac2": {
          "model_module": "@jupyter-widgets/base",
          "model_name": "LayoutModel",
          "state": {
            "_view_name": "LayoutView",
            "grid_template_rows": null,
            "right": null,
            "justify_content": null,
            "_view_module": "@jupyter-widgets/base",
            "overflow": null,
            "_model_module_version": "1.2.0",
            "_view_count": null,
            "flex_flow": null,
            "width": null,
            "min_width": null,
            "border": null,
            "align_items": null,
            "bottom": null,
            "_model_module": "@jupyter-widgets/base",
            "top": null,
            "grid_column": null,
            "overflow_y": null,
            "overflow_x": null,
            "grid_auto_flow": null,
            "grid_area": null,
            "grid_template_columns": null,
            "flex": null,
            "_model_name": "LayoutModel",
            "justify_items": null,
            "grid_row": null,
            "max_height": null,
            "align_content": null,
            "visibility": null,
            "align_self": null,
            "height": null,
            "min_height": null,
            "padding": null,
            "grid_auto_rows": null,
            "grid_gap": null,
            "max_width": null,
            "order": null,
            "_view_module_version": "1.2.0",
            "grid_template_areas": null,
            "object_position": null,
            "object_fit": null,
            "grid_auto_columns": null,
            "margin": null,
            "display": null,
            "left": null
          }
        },
        "d9795d543cf34e7f83d4acc3c60fd832": {
          "model_module": "@jupyter-widgets/controls",
          "model_name": "FloatProgressModel",
          "state": {
            "_view_name": "ProgressView",
            "style": "IPY_MODEL_f10247926d2a4bd686b740b94ca1b7d6",
            "_dom_classes": [],
            "description": "",
            "_model_name": "FloatProgressModel",
            "bar_style": "success",
            "max": 26421880,
            "_view_module": "@jupyter-widgets/controls",
            "_model_module_version": "1.5.0",
            "value": 26421880,
            "_view_count": null,
            "_view_module_version": "1.5.0",
            "orientation": "horizontal",
            "min": 0,
            "description_tooltip": null,
            "_model_module": "@jupyter-widgets/controls",
            "layout": "IPY_MODEL_c606109d914d4f04aae6a25e22198a20"
          }
        },
        "436e15ec817d4d579041d8fb28966cf7": {
          "model_module": "@jupyter-widgets/controls",
          "model_name": "HTMLModel",
          "state": {
            "_view_name": "HTMLView",
            "style": "IPY_MODEL_f449e60e47844f76b9996ce9e1459f9f",
            "_dom_classes": [],
            "description": "",
            "_model_name": "HTMLModel",
            "placeholder": "​",
            "_view_module": "@jupyter-widgets/controls",
            "_model_module_version": "1.5.0",
            "value": " 26422272/? [00:06&lt;00:00, 4044280.67it/s]",
            "_view_count": null,
            "_view_module_version": "1.5.0",
            "description_tooltip": null,
            "_model_module": "@jupyter-widgets/controls",
            "layout": "IPY_MODEL_9c661beffa9e4d6e8234ebb92752cfd0"
          }
        },
        "f10247926d2a4bd686b740b94ca1b7d6": {
          "model_module": "@jupyter-widgets/controls",
          "model_name": "ProgressStyleModel",
          "state": {
            "_view_name": "StyleView",
            "_model_name": "ProgressStyleModel",
            "description_width": "initial",
            "_view_module": "@jupyter-widgets/base",
            "_model_module_version": "1.5.0",
            "_view_count": null,
            "_view_module_version": "1.2.0",
            "bar_color": null,
            "_model_module": "@jupyter-widgets/controls"
          }
        },
        "c606109d914d4f04aae6a25e22198a20": {
          "model_module": "@jupyter-widgets/base",
          "model_name": "LayoutModel",
          "state": {
            "_view_name": "LayoutView",
            "grid_template_rows": null,
            "right": null,
            "justify_content": null,
            "_view_module": "@jupyter-widgets/base",
            "overflow": null,
            "_model_module_version": "1.2.0",
            "_view_count": null,
            "flex_flow": null,
            "width": null,
            "min_width": null,
            "border": null,
            "align_items": null,
            "bottom": null,
            "_model_module": "@jupyter-widgets/base",
            "top": null,
            "grid_column": null,
            "overflow_y": null,
            "overflow_x": null,
            "grid_auto_flow": null,
            "grid_area": null,
            "grid_template_columns": null,
            "flex": null,
            "_model_name": "LayoutModel",
            "justify_items": null,
            "grid_row": null,
            "max_height": null,
            "align_content": null,
            "visibility": null,
            "align_self": null,
            "height": null,
            "min_height": null,
            "padding": null,
            "grid_auto_rows": null,
            "grid_gap": null,
            "max_width": null,
            "order": null,
            "_view_module_version": "1.2.0",
            "grid_template_areas": null,
            "object_position": null,
            "object_fit": null,
            "grid_auto_columns": null,
            "margin": null,
            "display": null,
            "left": null
          }
        },
        "f449e60e47844f76b9996ce9e1459f9f": {
          "model_module": "@jupyter-widgets/controls",
          "model_name": "DescriptionStyleModel",
          "state": {
            "_view_name": "StyleView",
            "_model_name": "DescriptionStyleModel",
            "description_width": "",
            "_view_module": "@jupyter-widgets/base",
            "_model_module_version": "1.5.0",
            "_view_count": null,
            "_view_module_version": "1.2.0",
            "_model_module": "@jupyter-widgets/controls"
          }
        },
        "9c661beffa9e4d6e8234ebb92752cfd0": {
          "model_module": "@jupyter-widgets/base",
          "model_name": "LayoutModel",
          "state": {
            "_view_name": "LayoutView",
            "grid_template_rows": null,
            "right": null,
            "justify_content": null,
            "_view_module": "@jupyter-widgets/base",
            "overflow": null,
            "_model_module_version": "1.2.0",
            "_view_count": null,
            "flex_flow": null,
            "width": null,
            "min_width": null,
            "border": null,
            "align_items": null,
            "bottom": null,
            "_model_module": "@jupyter-widgets/base",
            "top": null,
            "grid_column": null,
            "overflow_y": null,
            "overflow_x": null,
            "grid_auto_flow": null,
            "grid_area": null,
            "grid_template_columns": null,
            "flex": null,
            "_model_name": "LayoutModel",
            "justify_items": null,
            "grid_row": null,
            "max_height": null,
            "align_content": null,
            "visibility": null,
            "align_self": null,
            "height": null,
            "min_height": null,
            "padding": null,
            "grid_auto_rows": null,
            "grid_gap": null,
            "max_width": null,
            "order": null,
            "_view_module_version": "1.2.0",
            "grid_template_areas": null,
            "object_position": null,
            "object_fit": null,
            "grid_auto_columns": null,
            "margin": null,
            "display": null,
            "left": null
          }
        },
        "3dab1f72ba56436a932472a2d492bba4": {
          "model_module": "@jupyter-widgets/controls",
          "model_name": "HBoxModel",
          "state": {
            "_view_name": "HBoxView",
            "_dom_classes": [],
            "_model_name": "HBoxModel",
            "_view_module": "@jupyter-widgets/controls",
            "_model_module_version": "1.5.0",
            "_view_count": null,
            "_view_module_version": "1.5.0",
            "box_style": "",
            "layout": "IPY_MODEL_5060901a8d2c4e86ab4a668e21cdf6bb",
            "_model_module": "@jupyter-widgets/controls",
            "children": [
              "IPY_MODEL_b8d5ac20aa11424a8e1e1e286fada857",
              "IPY_MODEL_02cd13a3ffea41229f27ae21794de07c"
            ]
          }
        },
        "5060901a8d2c4e86ab4a668e21cdf6bb": {
          "model_module": "@jupyter-widgets/base",
          "model_name": "LayoutModel",
          "state": {
            "_view_name": "LayoutView",
            "grid_template_rows": null,
            "right": null,
            "justify_content": null,
            "_view_module": "@jupyter-widgets/base",
            "overflow": null,
            "_model_module_version": "1.2.0",
            "_view_count": null,
            "flex_flow": null,
            "width": null,
            "min_width": null,
            "border": null,
            "align_items": null,
            "bottom": null,
            "_model_module": "@jupyter-widgets/base",
            "top": null,
            "grid_column": null,
            "overflow_y": null,
            "overflow_x": null,
            "grid_auto_flow": null,
            "grid_area": null,
            "grid_template_columns": null,
            "flex": null,
            "_model_name": "LayoutModel",
            "justify_items": null,
            "grid_row": null,
            "max_height": null,
            "align_content": null,
            "visibility": null,
            "align_self": null,
            "height": null,
            "min_height": null,
            "padding": null,
            "grid_auto_rows": null,
            "grid_gap": null,
            "max_width": null,
            "order": null,
            "_view_module_version": "1.2.0",
            "grid_template_areas": null,
            "object_position": null,
            "object_fit": null,
            "grid_auto_columns": null,
            "margin": null,
            "display": null,
            "left": null
          }
        },
        "b8d5ac20aa11424a8e1e1e286fada857": {
          "model_module": "@jupyter-widgets/controls",
          "model_name": "FloatProgressModel",
          "state": {
            "_view_name": "ProgressView",
            "style": "IPY_MODEL_d8a4da549968405bbf0cde1150562de8",
            "_dom_classes": [],
            "description": "",
            "_model_name": "FloatProgressModel",
            "bar_style": "success",
            "max": 29515,
            "_view_module": "@jupyter-widgets/controls",
            "_model_module_version": "1.5.0",
            "value": 29515,
            "_view_count": null,
            "_view_module_version": "1.5.0",
            "orientation": "horizontal",
            "min": 0,
            "description_tooltip": null,
            "_model_module": "@jupyter-widgets/controls",
            "layout": "IPY_MODEL_f9037aecce43457298cd55bc35c6fcdc"
          }
        },
        "02cd13a3ffea41229f27ae21794de07c": {
          "model_module": "@jupyter-widgets/controls",
          "model_name": "HTMLModel",
          "state": {
            "_view_name": "HTMLView",
            "style": "IPY_MODEL_df55c04fbdd94784b4c54bc8618ba119",
            "_dom_classes": [],
            "description": "",
            "_model_name": "HTMLModel",
            "placeholder": "​",
            "_view_module": "@jupyter-widgets/controls",
            "_model_module_version": "1.5.0",
            "value": " 29696/? [00:03&lt;00:00, 9847.79it/s]",
            "_view_count": null,
            "_view_module_version": "1.5.0",
            "description_tooltip": null,
            "_model_module": "@jupyter-widgets/controls",
            "layout": "IPY_MODEL_411de6fe6a9d4351a0c14adc2ad5372b"
          }
        },
        "d8a4da549968405bbf0cde1150562de8": {
          "model_module": "@jupyter-widgets/controls",
          "model_name": "ProgressStyleModel",
          "state": {
            "_view_name": "StyleView",
            "_model_name": "ProgressStyleModel",
            "description_width": "initial",
            "_view_module": "@jupyter-widgets/base",
            "_model_module_version": "1.5.0",
            "_view_count": null,
            "_view_module_version": "1.2.0",
            "bar_color": null,
            "_model_module": "@jupyter-widgets/controls"
          }
        },
        "f9037aecce43457298cd55bc35c6fcdc": {
          "model_module": "@jupyter-widgets/base",
          "model_name": "LayoutModel",
          "state": {
            "_view_name": "LayoutView",
            "grid_template_rows": null,
            "right": null,
            "justify_content": null,
            "_view_module": "@jupyter-widgets/base",
            "overflow": null,
            "_model_module_version": "1.2.0",
            "_view_count": null,
            "flex_flow": null,
            "width": null,
            "min_width": null,
            "border": null,
            "align_items": null,
            "bottom": null,
            "_model_module": "@jupyter-widgets/base",
            "top": null,
            "grid_column": null,
            "overflow_y": null,
            "overflow_x": null,
            "grid_auto_flow": null,
            "grid_area": null,
            "grid_template_columns": null,
            "flex": null,
            "_model_name": "LayoutModel",
            "justify_items": null,
            "grid_row": null,
            "max_height": null,
            "align_content": null,
            "visibility": null,
            "align_self": null,
            "height": null,
            "min_height": null,
            "padding": null,
            "grid_auto_rows": null,
            "grid_gap": null,
            "max_width": null,
            "order": null,
            "_view_module_version": "1.2.0",
            "grid_template_areas": null,
            "object_position": null,
            "object_fit": null,
            "grid_auto_columns": null,
            "margin": null,
            "display": null,
            "left": null
          }
        },
        "df55c04fbdd94784b4c54bc8618ba119": {
          "model_module": "@jupyter-widgets/controls",
          "model_name": "DescriptionStyleModel",
          "state": {
            "_view_name": "StyleView",
            "_model_name": "DescriptionStyleModel",
            "description_width": "",
            "_view_module": "@jupyter-widgets/base",
            "_model_module_version": "1.5.0",
            "_view_count": null,
            "_view_module_version": "1.2.0",
            "_model_module": "@jupyter-widgets/controls"
          }
        },
        "411de6fe6a9d4351a0c14adc2ad5372b": {
          "model_module": "@jupyter-widgets/base",
          "model_name": "LayoutModel",
          "state": {
            "_view_name": "LayoutView",
            "grid_template_rows": null,
            "right": null,
            "justify_content": null,
            "_view_module": "@jupyter-widgets/base",
            "overflow": null,
            "_model_module_version": "1.2.0",
            "_view_count": null,
            "flex_flow": null,
            "width": null,
            "min_width": null,
            "border": null,
            "align_items": null,
            "bottom": null,
            "_model_module": "@jupyter-widgets/base",
            "top": null,
            "grid_column": null,
            "overflow_y": null,
            "overflow_x": null,
            "grid_auto_flow": null,
            "grid_area": null,
            "grid_template_columns": null,
            "flex": null,
            "_model_name": "LayoutModel",
            "justify_items": null,
            "grid_row": null,
            "max_height": null,
            "align_content": null,
            "visibility": null,
            "align_self": null,
            "height": null,
            "min_height": null,
            "padding": null,
            "grid_auto_rows": null,
            "grid_gap": null,
            "max_width": null,
            "order": null,
            "_view_module_version": "1.2.0",
            "grid_template_areas": null,
            "object_position": null,
            "object_fit": null,
            "grid_auto_columns": null,
            "margin": null,
            "display": null,
            "left": null
          }
        },
        "faf94972855e45f1882e4264e5f90c15": {
          "model_module": "@jupyter-widgets/controls",
          "model_name": "HBoxModel",
          "state": {
            "_view_name": "HBoxView",
            "_dom_classes": [],
            "_model_name": "HBoxModel",
            "_view_module": "@jupyter-widgets/controls",
            "_model_module_version": "1.5.0",
            "_view_count": null,
            "_view_module_version": "1.5.0",
            "box_style": "",
            "layout": "IPY_MODEL_472dcf5d5f364e0cb3beb11fd10382fe",
            "_model_module": "@jupyter-widgets/controls",
            "children": [
              "IPY_MODEL_b76cd71c23284dcaa790417686a6c42d",
              "IPY_MODEL_125b6b8e49ba46c49f1196931ddb46f4"
            ]
          }
        },
        "472dcf5d5f364e0cb3beb11fd10382fe": {
          "model_module": "@jupyter-widgets/base",
          "model_name": "LayoutModel",
          "state": {
            "_view_name": "LayoutView",
            "grid_template_rows": null,
            "right": null,
            "justify_content": null,
            "_view_module": "@jupyter-widgets/base",
            "overflow": null,
            "_model_module_version": "1.2.0",
            "_view_count": null,
            "flex_flow": null,
            "width": null,
            "min_width": null,
            "border": null,
            "align_items": null,
            "bottom": null,
            "_model_module": "@jupyter-widgets/base",
            "top": null,
            "grid_column": null,
            "overflow_y": null,
            "overflow_x": null,
            "grid_auto_flow": null,
            "grid_area": null,
            "grid_template_columns": null,
            "flex": null,
            "_model_name": "LayoutModel",
            "justify_items": null,
            "grid_row": null,
            "max_height": null,
            "align_content": null,
            "visibility": null,
            "align_self": null,
            "height": null,
            "min_height": null,
            "padding": null,
            "grid_auto_rows": null,
            "grid_gap": null,
            "max_width": null,
            "order": null,
            "_view_module_version": "1.2.0",
            "grid_template_areas": null,
            "object_position": null,
            "object_fit": null,
            "grid_auto_columns": null,
            "margin": null,
            "display": null,
            "left": null
          }
        },
        "b76cd71c23284dcaa790417686a6c42d": {
          "model_module": "@jupyter-widgets/controls",
          "model_name": "FloatProgressModel",
          "state": {
            "_view_name": "ProgressView",
            "style": "IPY_MODEL_4779fc872b1d4f83b5458ae44c59ef3e",
            "_dom_classes": [],
            "description": "",
            "_model_name": "FloatProgressModel",
            "bar_style": "success",
            "max": 4422102,
            "_view_module": "@jupyter-widgets/controls",
            "_model_module_version": "1.5.0",
            "value": 4422102,
            "_view_count": null,
            "_view_module_version": "1.5.0",
            "orientation": "horizontal",
            "min": 0,
            "description_tooltip": null,
            "_model_module": "@jupyter-widgets/controls",
            "layout": "IPY_MODEL_97f9652d3e064340a0e5c17f01e91005"
          }
        },
        "125b6b8e49ba46c49f1196931ddb46f4": {
          "model_module": "@jupyter-widgets/controls",
          "model_name": "HTMLModel",
          "state": {
            "_view_name": "HTMLView",
            "style": "IPY_MODEL_276cce6618a54e699ec3a11538e7e571",
            "_dom_classes": [],
            "description": "",
            "_model_name": "HTMLModel",
            "placeholder": "​",
            "_view_module": "@jupyter-widgets/controls",
            "_model_module_version": "1.5.0",
            "value": " 4422656/? [00:02&lt;00:00, 2153872.71it/s]",
            "_view_count": null,
            "_view_module_version": "1.5.0",
            "description_tooltip": null,
            "_model_module": "@jupyter-widgets/controls",
            "layout": "IPY_MODEL_b520814164aa4ab3a1298f8ae695ea1a"
          }
        },
        "4779fc872b1d4f83b5458ae44c59ef3e": {
          "model_module": "@jupyter-widgets/controls",
          "model_name": "ProgressStyleModel",
          "state": {
            "_view_name": "StyleView",
            "_model_name": "ProgressStyleModel",
            "description_width": "initial",
            "_view_module": "@jupyter-widgets/base",
            "_model_module_version": "1.5.0",
            "_view_count": null,
            "_view_module_version": "1.2.0",
            "bar_color": null,
            "_model_module": "@jupyter-widgets/controls"
          }
        },
        "97f9652d3e064340a0e5c17f01e91005": {
          "model_module": "@jupyter-widgets/base",
          "model_name": "LayoutModel",
          "state": {
            "_view_name": "LayoutView",
            "grid_template_rows": null,
            "right": null,
            "justify_content": null,
            "_view_module": "@jupyter-widgets/base",
            "overflow": null,
            "_model_module_version": "1.2.0",
            "_view_count": null,
            "flex_flow": null,
            "width": null,
            "min_width": null,
            "border": null,
            "align_items": null,
            "bottom": null,
            "_model_module": "@jupyter-widgets/base",
            "top": null,
            "grid_column": null,
            "overflow_y": null,
            "overflow_x": null,
            "grid_auto_flow": null,
            "grid_area": null,
            "grid_template_columns": null,
            "flex": null,
            "_model_name": "LayoutModel",
            "justify_items": null,
            "grid_row": null,
            "max_height": null,
            "align_content": null,
            "visibility": null,
            "align_self": null,
            "height": null,
            "min_height": null,
            "padding": null,
            "grid_auto_rows": null,
            "grid_gap": null,
            "max_width": null,
            "order": null,
            "_view_module_version": "1.2.0",
            "grid_template_areas": null,
            "object_position": null,
            "object_fit": null,
            "grid_auto_columns": null,
            "margin": null,
            "display": null,
            "left": null
          }
        },
        "276cce6618a54e699ec3a11538e7e571": {
          "model_module": "@jupyter-widgets/controls",
          "model_name": "DescriptionStyleModel",
          "state": {
            "_view_name": "StyleView",
            "_model_name": "DescriptionStyleModel",
            "description_width": "",
            "_view_module": "@jupyter-widgets/base",
            "_model_module_version": "1.5.0",
            "_view_count": null,
            "_view_module_version": "1.2.0",
            "_model_module": "@jupyter-widgets/controls"
          }
        },
        "b520814164aa4ab3a1298f8ae695ea1a": {
          "model_module": "@jupyter-widgets/base",
          "model_name": "LayoutModel",
          "state": {
            "_view_name": "LayoutView",
            "grid_template_rows": null,
            "right": null,
            "justify_content": null,
            "_view_module": "@jupyter-widgets/base",
            "overflow": null,
            "_model_module_version": "1.2.0",
            "_view_count": null,
            "flex_flow": null,
            "width": null,
            "min_width": null,
            "border": null,
            "align_items": null,
            "bottom": null,
            "_model_module": "@jupyter-widgets/base",
            "top": null,
            "grid_column": null,
            "overflow_y": null,
            "overflow_x": null,
            "grid_auto_flow": null,
            "grid_area": null,
            "grid_template_columns": null,
            "flex": null,
            "_model_name": "LayoutModel",
            "justify_items": null,
            "grid_row": null,
            "max_height": null,
            "align_content": null,
            "visibility": null,
            "align_self": null,
            "height": null,
            "min_height": null,
            "padding": null,
            "grid_auto_rows": null,
            "grid_gap": null,
            "max_width": null,
            "order": null,
            "_view_module_version": "1.2.0",
            "grid_template_areas": null,
            "object_position": null,
            "object_fit": null,
            "grid_auto_columns": null,
            "margin": null,
            "display": null,
            "left": null
          }
        },
        "21160864df58487485f03bddc665fe14": {
          "model_module": "@jupyter-widgets/controls",
          "model_name": "HBoxModel",
          "state": {
            "_view_name": "HBoxView",
            "_dom_classes": [],
            "_model_name": "HBoxModel",
            "_view_module": "@jupyter-widgets/controls",
            "_model_module_version": "1.5.0",
            "_view_count": null,
            "_view_module_version": "1.5.0",
            "box_style": "",
            "layout": "IPY_MODEL_8fc257c0019c46a8b7b100f95f6df45c",
            "_model_module": "@jupyter-widgets/controls",
            "children": [
              "IPY_MODEL_d4373563a609438a9fc1ea44c6fb0e3f",
              "IPY_MODEL_1c44801f0073445e829f9bd3b0ad02fc"
            ]
          }
        },
        "8fc257c0019c46a8b7b100f95f6df45c": {
          "model_module": "@jupyter-widgets/base",
          "model_name": "LayoutModel",
          "state": {
            "_view_name": "LayoutView",
            "grid_template_rows": null,
            "right": null,
            "justify_content": null,
            "_view_module": "@jupyter-widgets/base",
            "overflow": null,
            "_model_module_version": "1.2.0",
            "_view_count": null,
            "flex_flow": null,
            "width": null,
            "min_width": null,
            "border": null,
            "align_items": null,
            "bottom": null,
            "_model_module": "@jupyter-widgets/base",
            "top": null,
            "grid_column": null,
            "overflow_y": null,
            "overflow_x": null,
            "grid_auto_flow": null,
            "grid_area": null,
            "grid_template_columns": null,
            "flex": null,
            "_model_name": "LayoutModel",
            "justify_items": null,
            "grid_row": null,
            "max_height": null,
            "align_content": null,
            "visibility": null,
            "align_self": null,
            "height": null,
            "min_height": null,
            "padding": null,
            "grid_auto_rows": null,
            "grid_gap": null,
            "max_width": null,
            "order": null,
            "_view_module_version": "1.2.0",
            "grid_template_areas": null,
            "object_position": null,
            "object_fit": null,
            "grid_auto_columns": null,
            "margin": null,
            "display": null,
            "left": null
          }
        },
        "d4373563a609438a9fc1ea44c6fb0e3f": {
          "model_module": "@jupyter-widgets/controls",
          "model_name": "FloatProgressModel",
          "state": {
            "_view_name": "ProgressView",
            "style": "IPY_MODEL_bc2d1a3fcdbf4b868acfb9d7b5eff7bd",
            "_dom_classes": [],
            "description": "",
            "_model_name": "FloatProgressModel",
            "bar_style": "success",
            "max": 5148,
            "_view_module": "@jupyter-widgets/controls",
            "_model_module_version": "1.5.0",
            "value": 5148,
            "_view_count": null,
            "_view_module_version": "1.5.0",
            "orientation": "horizontal",
            "min": 0,
            "description_tooltip": null,
            "_model_module": "@jupyter-widgets/controls",
            "layout": "IPY_MODEL_a393f3af71fc46f299fbda84a3d22488"
          }
        },
        "1c44801f0073445e829f9bd3b0ad02fc": {
          "model_module": "@jupyter-widgets/controls",
          "model_name": "HTMLModel",
          "state": {
            "_view_name": "HTMLView",
            "style": "IPY_MODEL_4e4f1c26e9f143d28e1ab252c11b3f1a",
            "_dom_classes": [],
            "description": "",
            "_model_name": "HTMLModel",
            "placeholder": "​",
            "_view_module": "@jupyter-widgets/controls",
            "_model_module_version": "1.5.0",
            "value": " 6144/? [00:00&lt;00:00, 42784.03it/s]",
            "_view_count": null,
            "_view_module_version": "1.5.0",
            "description_tooltip": null,
            "_model_module": "@jupyter-widgets/controls",
            "layout": "IPY_MODEL_8ee8238a386149f080e7c6eb768faaaa"
          }
        },
        "bc2d1a3fcdbf4b868acfb9d7b5eff7bd": {
          "model_module": "@jupyter-widgets/controls",
          "model_name": "ProgressStyleModel",
          "state": {
            "_view_name": "StyleView",
            "_model_name": "ProgressStyleModel",
            "description_width": "initial",
            "_view_module": "@jupyter-widgets/base",
            "_model_module_version": "1.5.0",
            "_view_count": null,
            "_view_module_version": "1.2.0",
            "bar_color": null,
            "_model_module": "@jupyter-widgets/controls"
          }
        },
        "a393f3af71fc46f299fbda84a3d22488": {
          "model_module": "@jupyter-widgets/base",
          "model_name": "LayoutModel",
          "state": {
            "_view_name": "LayoutView",
            "grid_template_rows": null,
            "right": null,
            "justify_content": null,
            "_view_module": "@jupyter-widgets/base",
            "overflow": null,
            "_model_module_version": "1.2.0",
            "_view_count": null,
            "flex_flow": null,
            "width": null,
            "min_width": null,
            "border": null,
            "align_items": null,
            "bottom": null,
            "_model_module": "@jupyter-widgets/base",
            "top": null,
            "grid_column": null,
            "overflow_y": null,
            "overflow_x": null,
            "grid_auto_flow": null,
            "grid_area": null,
            "grid_template_columns": null,
            "flex": null,
            "_model_name": "LayoutModel",
            "justify_items": null,
            "grid_row": null,
            "max_height": null,
            "align_content": null,
            "visibility": null,
            "align_self": null,
            "height": null,
            "min_height": null,
            "padding": null,
            "grid_auto_rows": null,
            "grid_gap": null,
            "max_width": null,
            "order": null,
            "_view_module_version": "1.2.0",
            "grid_template_areas": null,
            "object_position": null,
            "object_fit": null,
            "grid_auto_columns": null,
            "margin": null,
            "display": null,
            "left": null
          }
        },
        "4e4f1c26e9f143d28e1ab252c11b3f1a": {
          "model_module": "@jupyter-widgets/controls",
          "model_name": "DescriptionStyleModel",
          "state": {
            "_view_name": "StyleView",
            "_model_name": "DescriptionStyleModel",
            "description_width": "",
            "_view_module": "@jupyter-widgets/base",
            "_model_module_version": "1.5.0",
            "_view_count": null,
            "_view_module_version": "1.2.0",
            "_model_module": "@jupyter-widgets/controls"
          }
        },
        "8ee8238a386149f080e7c6eb768faaaa": {
          "model_module": "@jupyter-widgets/base",
          "model_name": "LayoutModel",
          "state": {
            "_view_name": "LayoutView",
            "grid_template_rows": null,
            "right": null,
            "justify_content": null,
            "_view_module": "@jupyter-widgets/base",
            "overflow": null,
            "_model_module_version": "1.2.0",
            "_view_count": null,
            "flex_flow": null,
            "width": null,
            "min_width": null,
            "border": null,
            "align_items": null,
            "bottom": null,
            "_model_module": "@jupyter-widgets/base",
            "top": null,
            "grid_column": null,
            "overflow_y": null,
            "overflow_x": null,
            "grid_auto_flow": null,
            "grid_area": null,
            "grid_template_columns": null,
            "flex": null,
            "_model_name": "LayoutModel",
            "justify_items": null,
            "grid_row": null,
            "max_height": null,
            "align_content": null,
            "visibility": null,
            "align_self": null,
            "height": null,
            "min_height": null,
            "padding": null,
            "grid_auto_rows": null,
            "grid_gap": null,
            "max_width": null,
            "order": null,
            "_view_module_version": "1.2.0",
            "grid_template_areas": null,
            "object_position": null,
            "object_fit": null,
            "grid_auto_columns": null,
            "margin": null,
            "display": null,
            "left": null
          }
        },
        "1619f4cfa46a4bf1821de91a0bfecbe3": {
          "model_module": "@jupyter-widgets/controls",
          "model_name": "VBoxModel",
          "state": {
            "_view_name": "VBoxView",
            "_dom_classes": [],
            "_model_name": "VBoxModel",
            "_view_module": "@jupyter-widgets/controls",
            "_model_module_version": "1.5.0",
            "_view_count": null,
            "_view_module_version": "1.5.0",
            "box_style": "",
            "layout": "IPY_MODEL_9716a45d97a04a99a55e473bedb3c52e",
            "_model_module": "@jupyter-widgets/controls",
            "children": [
              "IPY_MODEL_0ebf253031fa4f5cb6e6d590be532582",
              "IPY_MODEL_b6835e93a8f248baa2ae84e659be4e96"
            ]
          }
        },
        "9716a45d97a04a99a55e473bedb3c52e": {
          "model_module": "@jupyter-widgets/base",
          "model_name": "LayoutModel",
          "state": {
            "_view_name": "LayoutView",
            "grid_template_rows": null,
            "right": null,
            "justify_content": null,
            "_view_module": "@jupyter-widgets/base",
            "overflow": null,
            "_model_module_version": "1.2.0",
            "_view_count": null,
            "flex_flow": null,
            "width": null,
            "min_width": null,
            "border": null,
            "align_items": null,
            "bottom": null,
            "_model_module": "@jupyter-widgets/base",
            "top": null,
            "grid_column": null,
            "overflow_y": null,
            "overflow_x": null,
            "grid_auto_flow": null,
            "grid_area": null,
            "grid_template_columns": null,
            "flex": null,
            "_model_name": "LayoutModel",
            "justify_items": null,
            "grid_row": null,
            "max_height": null,
            "align_content": null,
            "visibility": null,
            "align_self": null,
            "height": null,
            "min_height": null,
            "padding": null,
            "grid_auto_rows": null,
            "grid_gap": null,
            "max_width": null,
            "order": null,
            "_view_module_version": "1.2.0",
            "grid_template_areas": null,
            "object_position": null,
            "object_fit": null,
            "grid_auto_columns": null,
            "margin": null,
            "display": null,
            "left": null
          }
        },
        "0ebf253031fa4f5cb6e6d590be532582": {
          "model_module": "@jupyter-widgets/controls",
          "model_name": "LabelModel",
          "state": {
            "_view_name": "LabelView",
            "style": "IPY_MODEL_b5aa0a92f2794db09089082feac36e67",
            "_dom_classes": [],
            "description": "",
            "_model_name": "LabelModel",
            "placeholder": "​",
            "_view_module": "@jupyter-widgets/controls",
            "_model_module_version": "1.5.0",
            "value": " 0.01MB of 0.01MB uploaded (0.00MB deduped)\r",
            "_view_count": null,
            "_view_module_version": "1.5.0",
            "description_tooltip": null,
            "_model_module": "@jupyter-widgets/controls",
            "layout": "IPY_MODEL_7a55f46f5e334fa6b082612c5767bfb8"
          }
        },
        "b6835e93a8f248baa2ae84e659be4e96": {
          "model_module": "@jupyter-widgets/controls",
          "model_name": "FloatProgressModel",
          "state": {
            "_view_name": "ProgressView",
            "style": "IPY_MODEL_8238458e14c744f5827ce364e40f9e10",
            "_dom_classes": [],
            "description": "",
            "_model_name": "FloatProgressModel",
            "bar_style": "",
            "max": 1,
            "_view_module": "@jupyter-widgets/controls",
            "_model_module_version": "1.5.0",
            "value": 1,
            "_view_count": null,
            "_view_module_version": "1.5.0",
            "orientation": "horizontal",
            "min": 0,
            "description_tooltip": null,
            "_model_module": "@jupyter-widgets/controls",
            "layout": "IPY_MODEL_44f61dbd3c5d4fc68c1537e2423639aa"
          }
        },
        "b5aa0a92f2794db09089082feac36e67": {
          "model_module": "@jupyter-widgets/controls",
          "model_name": "DescriptionStyleModel",
          "state": {
            "_view_name": "StyleView",
            "_model_name": "DescriptionStyleModel",
            "description_width": "",
            "_view_module": "@jupyter-widgets/base",
            "_model_module_version": "1.5.0",
            "_view_count": null,
            "_view_module_version": "1.2.0",
            "_model_module": "@jupyter-widgets/controls"
          }
        },
        "7a55f46f5e334fa6b082612c5767bfb8": {
          "model_module": "@jupyter-widgets/base",
          "model_name": "LayoutModel",
          "state": {
            "_view_name": "LayoutView",
            "grid_template_rows": null,
            "right": null,
            "justify_content": null,
            "_view_module": "@jupyter-widgets/base",
            "overflow": null,
            "_model_module_version": "1.2.0",
            "_view_count": null,
            "flex_flow": null,
            "width": null,
            "min_width": null,
            "border": null,
            "align_items": null,
            "bottom": null,
            "_model_module": "@jupyter-widgets/base",
            "top": null,
            "grid_column": null,
            "overflow_y": null,
            "overflow_x": null,
            "grid_auto_flow": null,
            "grid_area": null,
            "grid_template_columns": null,
            "flex": null,
            "_model_name": "LayoutModel",
            "justify_items": null,
            "grid_row": null,
            "max_height": null,
            "align_content": null,
            "visibility": null,
            "align_self": null,
            "height": null,
            "min_height": null,
            "padding": null,
            "grid_auto_rows": null,
            "grid_gap": null,
            "max_width": null,
            "order": null,
            "_view_module_version": "1.2.0",
            "grid_template_areas": null,
            "object_position": null,
            "object_fit": null,
            "grid_auto_columns": null,
            "margin": null,
            "display": null,
            "left": null
          }
        },
        "8238458e14c744f5827ce364e40f9e10": {
          "model_module": "@jupyter-widgets/controls",
          "model_name": "ProgressStyleModel",
          "state": {
            "_view_name": "StyleView",
            "_model_name": "ProgressStyleModel",
            "description_width": "",
            "_view_module": "@jupyter-widgets/base",
            "_model_module_version": "1.5.0",
            "_view_count": null,
            "_view_module_version": "1.2.0",
            "bar_color": null,
            "_model_module": "@jupyter-widgets/controls"
          }
        },
        "44f61dbd3c5d4fc68c1537e2423639aa": {
          "model_module": "@jupyter-widgets/base",
          "model_name": "LayoutModel",
          "state": {
            "_view_name": "LayoutView",
            "grid_template_rows": null,
            "right": null,
            "justify_content": null,
            "_view_module": "@jupyter-widgets/base",
            "overflow": null,
            "_model_module_version": "1.2.0",
            "_view_count": null,
            "flex_flow": null,
            "width": null,
            "min_width": null,
            "border": null,
            "align_items": null,
            "bottom": null,
            "_model_module": "@jupyter-widgets/base",
            "top": null,
            "grid_column": null,
            "overflow_y": null,
            "overflow_x": null,
            "grid_auto_flow": null,
            "grid_area": null,
            "grid_template_columns": null,
            "flex": null,
            "_model_name": "LayoutModel",
            "justify_items": null,
            "grid_row": null,
            "max_height": null,
            "align_content": null,
            "visibility": null,
            "align_self": null,
            "height": null,
            "min_height": null,
            "padding": null,
            "grid_auto_rows": null,
            "grid_gap": null,
            "max_width": null,
            "order": null,
            "_view_module_version": "1.2.0",
            "grid_template_areas": null,
            "object_position": null,
            "object_fit": null,
            "grid_auto_columns": null,
            "margin": null,
            "display": null,
            "left": null
          }
        },
        "f861a70e969e4d2dbc6d6a4496e91d44": {
          "model_module": "@jupyter-widgets/controls",
          "model_name": "HBoxModel",
          "state": {
            "_view_name": "HBoxView",
            "_dom_classes": [],
            "_model_name": "HBoxModel",
            "_view_module": "@jupyter-widgets/controls",
            "_model_module_version": "1.5.0",
            "_view_count": null,
            "_view_module_version": "1.5.0",
            "box_style": "",
            "layout": "IPY_MODEL_77686677a2824cd29e80557e75cbcfb3",
            "_model_module": "@jupyter-widgets/controls",
            "children": [
              "IPY_MODEL_0f319768a56c48a6b0af6cf0573d02df",
              "IPY_MODEL_16fd7a2744e649e9be0a00c1d329b29a"
            ]
          }
        },
        "77686677a2824cd29e80557e75cbcfb3": {
          "model_module": "@jupyter-widgets/base",
          "model_name": "LayoutModel",
          "state": {
            "_view_name": "LayoutView",
            "grid_template_rows": null,
            "right": null,
            "justify_content": null,
            "_view_module": "@jupyter-widgets/base",
            "overflow": null,
            "_model_module_version": "1.2.0",
            "_view_count": null,
            "flex_flow": null,
            "width": null,
            "min_width": null,
            "border": null,
            "align_items": null,
            "bottom": null,
            "_model_module": "@jupyter-widgets/base",
            "top": null,
            "grid_column": null,
            "overflow_y": null,
            "overflow_x": null,
            "grid_auto_flow": null,
            "grid_area": null,
            "grid_template_columns": null,
            "flex": null,
            "_model_name": "LayoutModel",
            "justify_items": null,
            "grid_row": null,
            "max_height": null,
            "align_content": null,
            "visibility": null,
            "align_self": null,
            "height": null,
            "min_height": null,
            "padding": null,
            "grid_auto_rows": null,
            "grid_gap": null,
            "max_width": null,
            "order": null,
            "_view_module_version": "1.2.0",
            "grid_template_areas": null,
            "object_position": null,
            "object_fit": null,
            "grid_auto_columns": null,
            "margin": null,
            "display": null,
            "left": null
          }
        },
        "0f319768a56c48a6b0af6cf0573d02df": {
          "model_module": "@jupyter-widgets/controls",
          "model_name": "FloatProgressModel",
          "state": {
            "_view_name": "ProgressView",
            "style": "IPY_MODEL_1d9936a122f84f81b45302f2f638e50d",
            "_dom_classes": [],
            "description": "100%",
            "_model_name": "FloatProgressModel",
            "bar_style": "success",
            "max": 102530333,
            "_view_module": "@jupyter-widgets/controls",
            "_model_module_version": "1.5.0",
            "value": 102530333,
            "_view_count": null,
            "_view_module_version": "1.5.0",
            "orientation": "horizontal",
            "min": 0,
            "description_tooltip": null,
            "_model_module": "@jupyter-widgets/controls",
            "layout": "IPY_MODEL_d701812cd23e46e3ad50d616d97a34ea"
          }
        },
        "16fd7a2744e649e9be0a00c1d329b29a": {
          "model_module": "@jupyter-widgets/controls",
          "model_name": "HTMLModel",
          "state": {
            "_view_name": "HTMLView",
            "style": "IPY_MODEL_ed893c22239348fd8141e801ee8986e4",
            "_dom_classes": [],
            "description": "",
            "_model_name": "HTMLModel",
            "placeholder": "​",
            "_view_module": "@jupyter-widgets/controls",
            "_model_module_version": "1.5.0",
            "value": " 97.8M/97.8M [00:00&lt;00:00, 163MB/s]",
            "_view_count": null,
            "_view_module_version": "1.5.0",
            "description_tooltip": null,
            "_model_module": "@jupyter-widgets/controls",
            "layout": "IPY_MODEL_c62f6a242d6b4deb999870132b06b2c4"
          }
        },
        "1d9936a122f84f81b45302f2f638e50d": {
          "model_module": "@jupyter-widgets/controls",
          "model_name": "ProgressStyleModel",
          "state": {
            "_view_name": "StyleView",
            "_model_name": "ProgressStyleModel",
            "description_width": "initial",
            "_view_module": "@jupyter-widgets/base",
            "_model_module_version": "1.5.0",
            "_view_count": null,
            "_view_module_version": "1.2.0",
            "bar_color": null,
            "_model_module": "@jupyter-widgets/controls"
          }
        },
        "d701812cd23e46e3ad50d616d97a34ea": {
          "model_module": "@jupyter-widgets/base",
          "model_name": "LayoutModel",
          "state": {
            "_view_name": "LayoutView",
            "grid_template_rows": null,
            "right": null,
            "justify_content": null,
            "_view_module": "@jupyter-widgets/base",
            "overflow": null,
            "_model_module_version": "1.2.0",
            "_view_count": null,
            "flex_flow": null,
            "width": null,
            "min_width": null,
            "border": null,
            "align_items": null,
            "bottom": null,
            "_model_module": "@jupyter-widgets/base",
            "top": null,
            "grid_column": null,
            "overflow_y": null,
            "overflow_x": null,
            "grid_auto_flow": null,
            "grid_area": null,
            "grid_template_columns": null,
            "flex": null,
            "_model_name": "LayoutModel",
            "justify_items": null,
            "grid_row": null,
            "max_height": null,
            "align_content": null,
            "visibility": null,
            "align_self": null,
            "height": null,
            "min_height": null,
            "padding": null,
            "grid_auto_rows": null,
            "grid_gap": null,
            "max_width": null,
            "order": null,
            "_view_module_version": "1.2.0",
            "grid_template_areas": null,
            "object_position": null,
            "object_fit": null,
            "grid_auto_columns": null,
            "margin": null,
            "display": null,
            "left": null
          }
        },
        "ed893c22239348fd8141e801ee8986e4": {
          "model_module": "@jupyter-widgets/controls",
          "model_name": "DescriptionStyleModel",
          "state": {
            "_view_name": "StyleView",
            "_model_name": "DescriptionStyleModel",
            "description_width": "",
            "_view_module": "@jupyter-widgets/base",
            "_model_module_version": "1.5.0",
            "_view_count": null,
            "_view_module_version": "1.2.0",
            "_model_module": "@jupyter-widgets/controls"
          }
        },
        "c62f6a242d6b4deb999870132b06b2c4": {
          "model_module": "@jupyter-widgets/base",
          "model_name": "LayoutModel",
          "state": {
            "_view_name": "LayoutView",
            "grid_template_rows": null,
            "right": null,
            "justify_content": null,
            "_view_module": "@jupyter-widgets/base",
            "overflow": null,
            "_model_module_version": "1.2.0",
            "_view_count": null,
            "flex_flow": null,
            "width": null,
            "min_width": null,
            "border": null,
            "align_items": null,
            "bottom": null,
            "_model_module": "@jupyter-widgets/base",
            "top": null,
            "grid_column": null,
            "overflow_y": null,
            "overflow_x": null,
            "grid_auto_flow": null,
            "grid_area": null,
            "grid_template_columns": null,
            "flex": null,
            "_model_name": "LayoutModel",
            "justify_items": null,
            "grid_row": null,
            "max_height": null,
            "align_content": null,
            "visibility": null,
            "align_self": null,
            "height": null,
            "min_height": null,
            "padding": null,
            "grid_auto_rows": null,
            "grid_gap": null,
            "max_width": null,
            "order": null,
            "_view_module_version": "1.2.0",
            "grid_template_areas": null,
            "object_position": null,
            "object_fit": null,
            "grid_auto_columns": null,
            "margin": null,
            "display": null,
            "left": null
          }
        },
        "13f26aab46a54ea2b99ece4d4dc317b1": {
          "model_module": "@jupyter-widgets/controls",
          "model_name": "VBoxModel",
          "state": {
            "_view_name": "VBoxView",
            "_dom_classes": [],
            "_model_name": "VBoxModel",
            "_view_module": "@jupyter-widgets/controls",
            "_model_module_version": "1.5.0",
            "_view_count": null,
            "_view_module_version": "1.5.0",
            "box_style": "",
            "layout": "IPY_MODEL_06b4dde93b9b4fc3ae99d62f4743c2fa",
            "_model_module": "@jupyter-widgets/controls",
            "children": [
              "IPY_MODEL_07a1bb454c5d44429204ebfbd7178f02",
              "IPY_MODEL_400c1bb4d6f24db1bfab324d0e0e2e57"
            ]
          }
        },
        "06b4dde93b9b4fc3ae99d62f4743c2fa": {
          "model_module": "@jupyter-widgets/base",
          "model_name": "LayoutModel",
          "state": {
            "_view_name": "LayoutView",
            "grid_template_rows": null,
            "right": null,
            "justify_content": null,
            "_view_module": "@jupyter-widgets/base",
            "overflow": null,
            "_model_module_version": "1.2.0",
            "_view_count": null,
            "flex_flow": null,
            "width": null,
            "min_width": null,
            "border": null,
            "align_items": null,
            "bottom": null,
            "_model_module": "@jupyter-widgets/base",
            "top": null,
            "grid_column": null,
            "overflow_y": null,
            "overflow_x": null,
            "grid_auto_flow": null,
            "grid_area": null,
            "grid_template_columns": null,
            "flex": null,
            "_model_name": "LayoutModel",
            "justify_items": null,
            "grid_row": null,
            "max_height": null,
            "align_content": null,
            "visibility": null,
            "align_self": null,
            "height": null,
            "min_height": null,
            "padding": null,
            "grid_auto_rows": null,
            "grid_gap": null,
            "max_width": null,
            "order": null,
            "_view_module_version": "1.2.0",
            "grid_template_areas": null,
            "object_position": null,
            "object_fit": null,
            "grid_auto_columns": null,
            "margin": null,
            "display": null,
            "left": null
          }
        },
        "07a1bb454c5d44429204ebfbd7178f02": {
          "model_module": "@jupyter-widgets/controls",
          "model_name": "LabelModel",
          "state": {
            "_view_name": "LabelView",
            "style": "IPY_MODEL_39a0f949779e448e82f2f6f21fc2c603",
            "_dom_classes": [],
            "description": "",
            "_model_name": "LabelModel",
            "placeholder": "​",
            "_view_module": "@jupyter-widgets/controls",
            "_model_module_version": "1.5.0",
            "value": " 0.04MB of 0.04MB uploaded (0.00MB deduped)\r",
            "_view_count": null,
            "_view_module_version": "1.5.0",
            "description_tooltip": null,
            "_model_module": "@jupyter-widgets/controls",
            "layout": "IPY_MODEL_a370ad15f882496aa8d21f1a6fcfc358"
          }
        },
        "400c1bb4d6f24db1bfab324d0e0e2e57": {
          "model_module": "@jupyter-widgets/controls",
          "model_name": "FloatProgressModel",
          "state": {
            "_view_name": "ProgressView",
            "style": "IPY_MODEL_ef31226c91c5450ba7a3cdf81eba8422",
            "_dom_classes": [],
            "description": "",
            "_model_name": "FloatProgressModel",
            "bar_style": "",
            "max": 1,
            "_view_module": "@jupyter-widgets/controls",
            "_model_module_version": "1.5.0",
            "value": 1,
            "_view_count": null,
            "_view_module_version": "1.5.0",
            "orientation": "horizontal",
            "min": 0,
            "description_tooltip": null,
            "_model_module": "@jupyter-widgets/controls",
            "layout": "IPY_MODEL_0e132ed7edc74e269f14111b736a5d52"
          }
        },
        "39a0f949779e448e82f2f6f21fc2c603": {
          "model_module": "@jupyter-widgets/controls",
          "model_name": "DescriptionStyleModel",
          "state": {
            "_view_name": "StyleView",
            "_model_name": "DescriptionStyleModel",
            "description_width": "",
            "_view_module": "@jupyter-widgets/base",
            "_model_module_version": "1.5.0",
            "_view_count": null,
            "_view_module_version": "1.2.0",
            "_model_module": "@jupyter-widgets/controls"
          }
        },
        "a370ad15f882496aa8d21f1a6fcfc358": {
          "model_module": "@jupyter-widgets/base",
          "model_name": "LayoutModel",
          "state": {
            "_view_name": "LayoutView",
            "grid_template_rows": null,
            "right": null,
            "justify_content": null,
            "_view_module": "@jupyter-widgets/base",
            "overflow": null,
            "_model_module_version": "1.2.0",
            "_view_count": null,
            "flex_flow": null,
            "width": null,
            "min_width": null,
            "border": null,
            "align_items": null,
            "bottom": null,
            "_model_module": "@jupyter-widgets/base",
            "top": null,
            "grid_column": null,
            "overflow_y": null,
            "overflow_x": null,
            "grid_auto_flow": null,
            "grid_area": null,
            "grid_template_columns": null,
            "flex": null,
            "_model_name": "LayoutModel",
            "justify_items": null,
            "grid_row": null,
            "max_height": null,
            "align_content": null,
            "visibility": null,
            "align_self": null,
            "height": null,
            "min_height": null,
            "padding": null,
            "grid_auto_rows": null,
            "grid_gap": null,
            "max_width": null,
            "order": null,
            "_view_module_version": "1.2.0",
            "grid_template_areas": null,
            "object_position": null,
            "object_fit": null,
            "grid_auto_columns": null,
            "margin": null,
            "display": null,
            "left": null
          }
        },
        "ef31226c91c5450ba7a3cdf81eba8422": {
          "model_module": "@jupyter-widgets/controls",
          "model_name": "ProgressStyleModel",
          "state": {
            "_view_name": "StyleView",
            "_model_name": "ProgressStyleModel",
            "description_width": "",
            "_view_module": "@jupyter-widgets/base",
            "_model_module_version": "1.5.0",
            "_view_count": null,
            "_view_module_version": "1.2.0",
            "bar_color": null,
            "_model_module": "@jupyter-widgets/controls"
          }
        },
        "0e132ed7edc74e269f14111b736a5d52": {
          "model_module": "@jupyter-widgets/base",
          "model_name": "LayoutModel",
          "state": {
            "_view_name": "LayoutView",
            "grid_template_rows": null,
            "right": null,
            "justify_content": null,
            "_view_module": "@jupyter-widgets/base",
            "overflow": null,
            "_model_module_version": "1.2.0",
            "_view_count": null,
            "flex_flow": null,
            "width": null,
            "min_width": null,
            "border": null,
            "align_items": null,
            "bottom": null,
            "_model_module": "@jupyter-widgets/base",
            "top": null,
            "grid_column": null,
            "overflow_y": null,
            "overflow_x": null,
            "grid_auto_flow": null,
            "grid_area": null,
            "grid_template_columns": null,
            "flex": null,
            "_model_name": "LayoutModel",
            "justify_items": null,
            "grid_row": null,
            "max_height": null,
            "align_content": null,
            "visibility": null,
            "align_self": null,
            "height": null,
            "min_height": null,
            "padding": null,
            "grid_auto_rows": null,
            "grid_gap": null,
            "max_width": null,
            "order": null,
            "_view_module_version": "1.2.0",
            "grid_template_areas": null,
            "object_position": null,
            "object_fit": null,
            "grid_auto_columns": null,
            "margin": null,
            "display": null,
            "left": null
          }
        }
      }
    }
  },
  "cells": [
    {
      "cell_type": "markdown",
      "metadata": {
        "id": "view-in-github",
        "colab_type": "text"
      },
      "source": [
        "<a href=\"https://colab.research.google.com/github/James-Yuichi-Sato/fourth_brain_mlops_2021_june_cohort/blob/main/4B_Week_2_Offline_Fashion_MNIST_ML_Monitoring_Assignment.ipynb\" target=\"_parent\"><img src=\"https://colab.research.google.com/assets/colab-badge.svg\" alt=\"Open In Colab\"/></a>"
      ]
    },
    {
      "cell_type": "markdown",
      "metadata": {
        "id": "BcYDRZB_5ZRO"
      },
      "source": [
        "# In this assignment, we will train and test Convolutional Neural Network Models for multi-class image classification using the Pytorch framework. \n",
        "\n",
        "##**Our focus is NOT on training the best ML model, but monitoring ML model performance for test/production data.**\n",
        "\n",
        "Please focus on your learnings from the **Weights and Biases** platform here.\n",
        "The intention here is to monitor the classification outcome for batches of production data using the **Weights and Biases** platform.\n",
        "\n",
        "Sources:\n",
        "* [1] https://colab.research.google.com/drive/1X99lDIZt6fM1DCNWA65xnr7dW6qNvxbh?usp=sharing\n",
        "* [2] Blog https://towardsdatascience.com/logging-with-weights-biases-da048e3cbc8b\n",
        "* [3]https://colab.research.google.com/github/kjamithash/Pytorch_DeepLearning_Experiments/blob/master/FashionMNIST_ResNet_TransferLearning.ipynb#scrollTo=kSa1Bg3722Gz\n",
        "\n",
        "## **Description of this Project**:  In this assignment, we are given the Fashion MNIST data set (https://www.kaggle.com/zalando-research/fashionmnist) with 60k training images and 10k test images, such that each image can be categorized as one of 10 output clothing categories. Our project demands the following:\n",
        "\n",
        "\n",
        "---\n",
        "\n",
        "\n",
        "##1. Train an off the shelf/simple image classifier and monitor the training process.\n",
        "##2. Monitor the test sample batches for pre-production testing (ML Monitoring) to detect drifts in the production data.\n",
        "\n",
        "\n",
        "---\n",
        "\n"
      ]
    },
    {
      "cell_type": "markdown",
      "metadata": {
        "id": "pZoSTS8S4YB1"
      },
      "source": [
        "# **Task 0**: Getting to know the data\n",
        "Lets begin by loading the libraries and the data set."
      ]
    },
    {
      "cell_type": "code",
      "metadata": {
        "id": "H542u2hW1ABK"
      },
      "source": [
        "import time\n",
        "\n",
        "import torch\n",
        "import torchvision\n",
        "import torch.nn as nn\n",
        "import torch.nn.functional as F\n",
        "import torch.optim as optim\n",
        "import torchvision.transforms as transforms\n",
        "\n",
        "device = torch.device(\"cuda:0\" if torch.cuda.is_available() else \"cpu\")"
      ],
      "execution_count": 1,
      "outputs": []
    },
    {
      "cell_type": "markdown",
      "metadata": {
        "id": "aVe0QVGFJYPv"
      },
      "source": [
        "## Step 1: Since we will monitor the ML model training and production testing using Weights and Biases, create an account at https://wandb.ai and login. \n",
        "In the same browser launch this colab so authentication is automaticaly done.\n"
      ]
    },
    {
      "cell_type": "code",
      "metadata": {
        "id": "twyO6mr1JQsQ",
        "colab": {
          "base_uri": "https://localhost:8080/"
        },
        "outputId": "62cbd29c-293a-43e9-bdce-464281b7fc06"
      },
      "source": [
        "%pip install wandb -q\n",
        "import wandb"
      ],
      "execution_count": 2,
      "outputs": [
        {
          "output_type": "stream",
          "text": [
            "\u001b[K     |████████████████████████████████| 1.8MB 8.3MB/s \n",
            "\u001b[K     |████████████████████████████████| 133kB 52.2MB/s \n",
            "\u001b[K     |████████████████████████████████| 102kB 12.5MB/s \n",
            "\u001b[K     |████████████████████████████████| 174kB 48.4MB/s \n",
            "\u001b[K     |████████████████████████████████| 71kB 11.9MB/s \n",
            "\u001b[?25h  Building wheel for subprocess32 (setup.py) ... \u001b[?25l\u001b[?25hdone\n",
            "  Building wheel for pathtools (setup.py) ... \u001b[?25l\u001b[?25hdone\n"
          ],
          "name": "stdout"
        }
      ]
    },
    {
      "cell_type": "code",
      "metadata": {
        "colab": {
          "base_uri": "https://localhost:8080/",
          "height": 68
        },
        "id": "AMW4KJnjHAoR",
        "outputId": "2acc7a8c-bdf5-44b6-c4c6-53f0a8f1f187"
      },
      "source": [
        "wandb.login()"
      ],
      "execution_count": 3,
      "outputs": [
        {
          "output_type": "display_data",
          "data": {
            "application/javascript": [
              "\n",
              "        window._wandbApiKey = new Promise((resolve, reject) => {\n",
              "            function loadScript(url) {\n",
              "            return new Promise(function(resolve, reject) {\n",
              "                let newScript = document.createElement(\"script\");\n",
              "                newScript.onerror = reject;\n",
              "                newScript.onload = resolve;\n",
              "                document.body.appendChild(newScript);\n",
              "                newScript.src = url;\n",
              "            });\n",
              "            }\n",
              "            loadScript(\"https://cdn.jsdelivr.net/npm/postmate/build/postmate.min.js\").then(() => {\n",
              "            const iframe = document.createElement('iframe')\n",
              "            iframe.style.cssText = \"width:0;height:0;border:none\"\n",
              "            document.body.appendChild(iframe)\n",
              "            const handshake = new Postmate({\n",
              "                container: iframe,\n",
              "                url: 'https://wandb.ai/authorize'\n",
              "            });\n",
              "            const timeout = setTimeout(() => reject(\"Couldn't auto authenticate\"), 5000)\n",
              "            handshake.then(function(child) {\n",
              "                child.on('authorize', data => {\n",
              "                    clearTimeout(timeout)\n",
              "                    resolve(data)\n",
              "                });\n",
              "            });\n",
              "            })\n",
              "        });\n",
              "    "
            ],
            "text/plain": [
              "<IPython.core.display.Javascript object>"
            ]
          },
          "metadata": {
            "tags": []
          }
        },
        {
          "output_type": "stream",
          "text": [
            "\u001b[34m\u001b[1mwandb\u001b[0m: Appending key for api.wandb.ai to your netrc file: /root/.netrc\n"
          ],
          "name": "stderr"
        },
        {
          "output_type": "execute_result",
          "data": {
            "text/plain": [
              "True"
            ]
          },
          "metadata": {
            "tags": []
          },
          "execution_count": 3
        }
      ]
    },
    {
      "cell_type": "markdown",
      "metadata": {
        "id": "ipRkiXtrFg3m"
      },
      "source": [
        "## Step 2: Generate the Datasets and Dataloaders"
      ]
    },
    {
      "cell_type": "markdown",
      "metadata": {
        "id": "7ih16NWXd8WT"
      },
      "source": [
        "len() function is used to calculate size of an object in python. For more information on len() see https://docs.python.org/3/library/functions.html#len"
      ]
    },
    {
      "cell_type": "code",
      "metadata": {
        "id": "06yy8_0feb_W",
        "colab": {
          "base_uri": "https://localhost:8080/",
          "height": 573,
          "referenced_widgets": [
            "c4e5ab5a6fb14172a08dcad6dcf76210",
            "2d5bac545f624f5781c7c390b0e49ac2",
            "d9795d543cf34e7f83d4acc3c60fd832",
            "436e15ec817d4d579041d8fb28966cf7",
            "f10247926d2a4bd686b740b94ca1b7d6",
            "c606109d914d4f04aae6a25e22198a20",
            "f449e60e47844f76b9996ce9e1459f9f",
            "9c661beffa9e4d6e8234ebb92752cfd0",
            "3dab1f72ba56436a932472a2d492bba4",
            "5060901a8d2c4e86ab4a668e21cdf6bb",
            "b8d5ac20aa11424a8e1e1e286fada857",
            "02cd13a3ffea41229f27ae21794de07c",
            "d8a4da549968405bbf0cde1150562de8",
            "f9037aecce43457298cd55bc35c6fcdc",
            "df55c04fbdd94784b4c54bc8618ba119",
            "411de6fe6a9d4351a0c14adc2ad5372b",
            "faf94972855e45f1882e4264e5f90c15",
            "472dcf5d5f364e0cb3beb11fd10382fe",
            "b76cd71c23284dcaa790417686a6c42d",
            "125b6b8e49ba46c49f1196931ddb46f4",
            "4779fc872b1d4f83b5458ae44c59ef3e",
            "97f9652d3e064340a0e5c17f01e91005",
            "276cce6618a54e699ec3a11538e7e571",
            "b520814164aa4ab3a1298f8ae695ea1a",
            "21160864df58487485f03bddc665fe14",
            "8fc257c0019c46a8b7b100f95f6df45c",
            "d4373563a609438a9fc1ea44c6fb0e3f",
            "1c44801f0073445e829f9bd3b0ad02fc",
            "bc2d1a3fcdbf4b868acfb9d7b5eff7bd",
            "a393f3af71fc46f299fbda84a3d22488",
            "4e4f1c26e9f143d28e1ab252c11b3f1a",
            "8ee8238a386149f080e7c6eb768faaaa"
          ]
        },
        "outputId": "128f53a5-cfde-457a-8459-8eecf9d20e6c"
      },
      "source": [
        "# Define transforms for data preprocessing\n",
        "transform = transforms.Compose([\n",
        "    transforms.ToTensor()\n",
        "])\n",
        "\n",
        "# Datasets\n",
        "trainset = torchvision.datasets.FashionMNIST(root='./data', train=True, download=True, transform=transform)\n",
        "testset = torchvision.datasets.FashionMNIST(root='./data', train=False, download=True, transform=transform)\n",
        "\n",
        "# Dataloaders to feed the data in batches\n",
        "trainloader = torch.utils.data.DataLoader(trainset, batch_size=1000, shuffle=True, num_workers=4)\n",
        "testloader = torch.utils.data.DataLoader(testset, batch_size=100, shuffle=True, num_workers=4)\n",
        "prodloader = torch.utils.data.DataLoader(testset, batch_size=10, shuffle=True)\n",
        "\n",
        "# Print the number of train images, test images, train batches and test batches using len function discussed earlier. "
      ],
      "execution_count": 4,
      "outputs": [
        {
          "output_type": "stream",
          "text": [
            "Downloading http://fashion-mnist.s3-website.eu-central-1.amazonaws.com/train-images-idx3-ubyte.gz\n",
            "Downloading http://fashion-mnist.s3-website.eu-central-1.amazonaws.com/train-images-idx3-ubyte.gz to ./data/FashionMNIST/raw/train-images-idx3-ubyte.gz\n"
          ],
          "name": "stdout"
        },
        {
          "output_type": "display_data",
          "data": {
            "application/vnd.jupyter.widget-view+json": {
              "model_id": "c4e5ab5a6fb14172a08dcad6dcf76210",
              "version_minor": 0,
              "version_major": 2
            },
            "text/plain": [
              "HBox(children=(FloatProgress(value=0.0, max=26421880.0), HTML(value='')))"
            ]
          },
          "metadata": {
            "tags": []
          }
        },
        {
          "output_type": "stream",
          "text": [
            "\n",
            "Extracting ./data/FashionMNIST/raw/train-images-idx3-ubyte.gz to ./data/FashionMNIST/raw\n",
            "\n",
            "Downloading http://fashion-mnist.s3-website.eu-central-1.amazonaws.com/train-labels-idx1-ubyte.gz\n",
            "Downloading http://fashion-mnist.s3-website.eu-central-1.amazonaws.com/train-labels-idx1-ubyte.gz to ./data/FashionMNIST/raw/train-labels-idx1-ubyte.gz\n"
          ],
          "name": "stdout"
        },
        {
          "output_type": "display_data",
          "data": {
            "application/vnd.jupyter.widget-view+json": {
              "model_id": "3dab1f72ba56436a932472a2d492bba4",
              "version_minor": 0,
              "version_major": 2
            },
            "text/plain": [
              "HBox(children=(FloatProgress(value=0.0, max=29515.0), HTML(value='')))"
            ]
          },
          "metadata": {
            "tags": []
          }
        },
        {
          "output_type": "stream",
          "text": [
            "\n",
            "Extracting ./data/FashionMNIST/raw/train-labels-idx1-ubyte.gz to ./data/FashionMNIST/raw\n",
            "\n",
            "Downloading http://fashion-mnist.s3-website.eu-central-1.amazonaws.com/t10k-images-idx3-ubyte.gz\n",
            "Downloading http://fashion-mnist.s3-website.eu-central-1.amazonaws.com/t10k-images-idx3-ubyte.gz to ./data/FashionMNIST/raw/t10k-images-idx3-ubyte.gz\n"
          ],
          "name": "stdout"
        },
        {
          "output_type": "display_data",
          "data": {
            "application/vnd.jupyter.widget-view+json": {
              "model_id": "faf94972855e45f1882e4264e5f90c15",
              "version_minor": 0,
              "version_major": 2
            },
            "text/plain": [
              "HBox(children=(FloatProgress(value=0.0, max=4422102.0), HTML(value='')))"
            ]
          },
          "metadata": {
            "tags": []
          }
        },
        {
          "output_type": "stream",
          "text": [
            "\n",
            "Extracting ./data/FashionMNIST/raw/t10k-images-idx3-ubyte.gz to ./data/FashionMNIST/raw\n",
            "\n",
            "Downloading http://fashion-mnist.s3-website.eu-central-1.amazonaws.com/t10k-labels-idx1-ubyte.gz\n",
            "Downloading http://fashion-mnist.s3-website.eu-central-1.amazonaws.com/t10k-labels-idx1-ubyte.gz to ./data/FashionMNIST/raw/t10k-labels-idx1-ubyte.gz\n"
          ],
          "name": "stdout"
        },
        {
          "output_type": "display_data",
          "data": {
            "application/vnd.jupyter.widget-view+json": {
              "model_id": "21160864df58487485f03bddc665fe14",
              "version_minor": 0,
              "version_major": 2
            },
            "text/plain": [
              "HBox(children=(FloatProgress(value=0.0, max=5148.0), HTML(value='')))"
            ]
          },
          "metadata": {
            "tags": []
          }
        },
        {
          "output_type": "stream",
          "text": [
            "\n",
            "Extracting ./data/FashionMNIST/raw/t10k-labels-idx1-ubyte.gz to ./data/FashionMNIST/raw\n",
            "\n"
          ],
          "name": "stdout"
        },
        {
          "output_type": "stream",
          "text": [
            "/usr/local/lib/python3.7/dist-packages/torchvision/datasets/mnist.py:498: UserWarning: The given NumPy array is not writeable, and PyTorch does not support non-writeable tensors. This means you can write to the underlying (supposedly non-writeable) NumPy array using the tensor. You may want to copy the array to protect its data or make it writeable before converting it to a tensor. This type of warning will be suppressed for the rest of this program. (Triggered internally at  /pytorch/torch/csrc/utils/tensor_numpy.cpp:180.)\n",
            "  return torch.from_numpy(parsed.astype(m[2], copy=False)).view(*s)\n",
            "/usr/local/lib/python3.7/dist-packages/torch/utils/data/dataloader.py:481: UserWarning: This DataLoader will create 4 worker processes in total. Our suggested max number of worker in current system is 2, which is smaller than what this DataLoader is going to create. Please be aware that excessive worker creation might get DataLoader running slow or even freeze, lower the worker number to avoid potential slowness/freeze if necessary.\n",
            "  cpuset_checked))\n"
          ],
          "name": "stderr"
        }
      ]
    },
    {
      "cell_type": "markdown",
      "metadata": {
        "id": "aa3lHaBOeXzu"
      },
      "source": [
        "DataLoaders are used to load data in batches. "
      ]
    },
    {
      "cell_type": "markdown",
      "metadata": {
        "id": "jI_ezXwZFnlu"
      },
      "source": [
        "# **Task 1**: Create a simple CNN model using Pytorch. You are NOT Required to learn the nitty gritty of a Pytorch CNN model, just use the code below as a sample codeblock for future assignments."
      ]
    },
    {
      "cell_type": "markdown",
      "metadata": {
        "id": "UjsdxOOxhVP4"
      },
      "source": [
        "nn.Module is the bast class used for all neural network modules. Following is a CNN for FashionMNIST classification. \n",
        "(optional) For information on how nn.Module works see https://pytorch.org/docs/stable/generated/torch.nn.Module.html \n",
        "(optional) Fonr information on how layers in pytorch work see https://pytorch.org/docs/stable/nn.html"
      ]
    },
    {
      "cell_type": "code",
      "metadata": {
        "id": "FXKrb6kuhTVd"
      },
      "source": [
        "#Sample Pytorch Code#############################\n",
        "class Network(nn.Module):\n",
        "    \n",
        "    def __init__(self):\n",
        "        super(Network, self).__init__()\n",
        "    \n",
        "        self.conv1 = nn.Conv2d(in_channels=1, out_channels=6, kernel_size=5)\n",
        "        self.conv2 = nn.Conv2d(in_channels=6, out_channels=12, kernel_size=5)\n",
        "\n",
        "        self.pool = nn.MaxPool2d(kernel_size = 2, stride = 2)\n",
        "\n",
        "        self.fc1 = nn.Linear(12 * 4 * 4, 120)\n",
        "        self.fc2 = nn.Linear(120, 60)\n",
        "        self.fc3 = nn.Linear(60, 10)\n",
        "\n",
        "    def forward(self, x):\n",
        "        x = self.conv1(x)\n",
        "        x = F.relu(x)\n",
        "        x = self.pool(x)\n",
        "        \n",
        "        x = self.conv2(x)\n",
        "        x = F.relu(x)\n",
        "        x = self.pool(x)\n",
        "        \n",
        "        x = x.reshape(-1, 12 * 4 * 4)\n",
        "        \n",
        "        x = self.fc1(x)\n",
        "        x = F.relu(x)\n",
        "        \n",
        "        x = self.fc2(x)\n",
        "        x = F.relu(x)\n",
        "        \n",
        "        x = self.fc3(x)\n",
        "        return x"
      ],
      "execution_count": 5,
      "outputs": []
    },
    {
      "cell_type": "markdown",
      "metadata": {
        "id": "e6G5NNr4adAl"
      },
      "source": [
        "## Next, lets declare some Helper Functions"
      ]
    },
    {
      "cell_type": "markdown",
      "metadata": {
        "id": "iT50u2V4iuqs"
      },
      "source": [
        "find_acc function is used to calculate accuracy for the predictions and labels using the argmax function for 1st axis. train function is used to train the created model with the training data in the trainloader batch. validate function calculates the loss and accuracy for the test set. count_outcomes function calculates the number of outcomes in a given batch.  "
      ]
    },
    {
      "cell_type": "code",
      "metadata": {
        "id": "k6cIl_LbWqDU"
      },
      "source": [
        "def find_acc(pred, label):\n",
        "    \"\"\"pixelwise accuracy\"\"\"\n",
        "    correct = pred.argmax(dim = 1).eq(label)\n",
        "    accuracy = correct.to(torch.float32).mean().item() * 100\n",
        "    return accuracy\n",
        "\n",
        "def train(network, epoch, criterion, optimizer, trainloader):\n",
        "    loss_train = 0\n",
        "    acc_train = 0\n",
        "    network.train()\n",
        "    \n",
        "    for step in range(len(trainloader)):\n",
        "\n",
        "        images , labels = next(iter(trainloader))\n",
        "        \n",
        "        # move the images and labels to GPU\n",
        "        images = images.to(device)\n",
        "        labels = labels.to(device)\n",
        "        \n",
        "        pred = network(images)\n",
        "        \n",
        "        # clear all the gradients before calculating them\n",
        "        optimizer.zero_grad()\n",
        "        \n",
        "        # find the loss for the current step\n",
        "        loss_train_step = criterion(pred , labels)\n",
        "        \n",
        "        # find accuracy\n",
        "        acc_train_step = find_acc(pred, labels)\n",
        "        \n",
        "        # calculate the gradients\n",
        "        loss_train_step.backward()\n",
        "        \n",
        "        # update the parameters\n",
        "        optimizer.step()\n",
        "        \n",
        "        loss_train += loss_train_step.item()\n",
        "        acc_train += acc_train_step  \n",
        "            \n",
        "        loss_train /= len(trainloader)\n",
        "        acc_train /= len(testloader)\n",
        "\n",
        "        return loss_train, acc_train  \n",
        "        \n",
        "def validate(network, epoch, criterion, testloader): \n",
        "    loss_valid = 0\n",
        "    acc_valid = 0       \n",
        "    network.eval()  \n",
        "\n",
        "    for step in range(len(testloader)):\n",
        "\n",
        "        images , labels = next(iter(testloader))\n",
        "        \n",
        "        # move the images and labels to GPU\n",
        "        images = images.to(device)\n",
        "        labels = labels.to(device)\n",
        "        \n",
        "        pred = network(images)\n",
        "        \n",
        "        # clear all the gradients before calculating them\n",
        "        optimizer.zero_grad()\n",
        "        \n",
        "        # find the loss and acc for the current step\n",
        "        loss_valid_step = criterion(pred , labels)\n",
        "        acc_valid_step = find_acc(pred, labels)\n",
        "      \n",
        "        loss_valid += loss_valid_step.item()\n",
        "        acc_valid += acc_valid_step\n",
        "\n",
        "        loss_valid /= len(trainloader)\n",
        "        acc_valid /= len(testloader)\n",
        "\n",
        "        return loss_valid, acc_valid\n",
        "\n",
        "\n",
        "\n",
        "def count_outcomes(arr):\n",
        "  res=np.zeros(10)\n",
        "  for x in range(10):\n",
        "    for i in range(len(arr)):\n",
        "        if x == arr[i]:\n",
        "            res[x]=res[x]+1\n",
        "  return res"
      ],
      "execution_count": 6,
      "outputs": []
    },
    {
      "cell_type": "markdown",
      "metadata": {
        "id": "pgzJUuCTJP9T"
      },
      "source": [
        "#**Task 2**: Train the simple CNN Network and watch the model logs at the **Weights and Biases** portal."
      ]
    },
    {
      "cell_type": "code",
      "metadata": {
        "id": "aAYa0SiytT-T",
        "colab": {
          "base_uri": "https://localhost:8080/",
          "height": 241
        },
        "outputId": "24d25c73-2145-425a-9954-edcad00f66c7"
      },
      "source": [
        "# Initialize WandB \n",
        "\n",
        "# Set an experiment name to group training and evaluation\n",
        "experiment_name = wandb.util.generate_id()\n",
        "\n",
        "wandb.init(project=\"intro-demo\",\n",
        "           group=experiment_name,\n",
        "           notes='This is the first run', \n",
        "           tags=['Fashion MNIST', 'Test Run'])\n",
        "\n",
        "# WandB Configurations (optional)        \n",
        "wandb.config.lr = 0.01    \n",
        "\n",
        "network = Network().to(device)\n",
        "criterion = nn.CrossEntropyLoss()\n",
        "optimizer = optim.Adam(network.parameters(), wandb.config.lr)\n",
        "\n",
        "# Log the network weight histograms (optional)\n",
        "wandb.watch(network)\n",
        "\n",
        "num_epochs = 100\n",
        "start_time = time.time()\n",
        "for epoch in range(1, num_epochs+1):\n",
        "    \n",
        "    loss_train, acc_train = train(network, epoch, criterion, optimizer, trainloader)\n",
        "    loss_valid, acc_valid = validate(network, epoch, criterion, testloader)\n",
        "    \n",
        "    #Print the epoch number, training loss, training accuracy, validation loss and validation accuracy for each epoch\n",
        "\n",
        "\n",
        "    # Log the loss and accuracy values at the end of each epoch\n",
        "    wandb.log({\n",
        "        \"Epoch\": epoch,\n",
        "        \"Train Loss\": loss_train,\n",
        "        \"Train Acc\": acc_train,\n",
        "        \"Valid Loss\": loss_valid,\n",
        "        \"Valid Acc\": acc_valid})\n",
        "\n",
        "# Print the time taken for training the data. It can be calculated using the difference between current time and start time. \n",
        "# Current time can be retrieved using time.time()\n",
        "end_time = time.time()\n",
        "\n",
        "elapsed_time = end_time - start_time\n",
        "\n",
        "print('Time Elapsed: ' + str(elapsed_time) + 's')\n"
      ],
      "execution_count": 7,
      "outputs": [
        {
          "output_type": "stream",
          "text": [
            "\u001b[34m\u001b[1mwandb\u001b[0m: Currently logged in as: \u001b[33mjamesysato\u001b[0m (use `wandb login --relogin` to force relogin)\n"
          ],
          "name": "stderr"
        },
        {
          "output_type": "display_data",
          "data": {
            "text/html": [
              "\n",
              "                Tracking run with wandb version 0.10.33<br/>\n",
              "                Syncing run <strong style=\"color:#cdcd00\">comfy-thunder-1</strong> to <a href=\"https://wandb.ai\" target=\"_blank\">Weights & Biases</a> <a href=\"https://docs.wandb.com/integrations/jupyter.html\" target=\"_blank\">(Documentation)</a>.<br/>\n",
              "                Project page: <a href=\"https://wandb.ai/jamesysato/intro-demo\" target=\"_blank\">https://wandb.ai/jamesysato/intro-demo</a><br/>\n",
              "                Run page: <a href=\"https://wandb.ai/jamesysato/intro-demo/runs/1g66ro4o\" target=\"_blank\">https://wandb.ai/jamesysato/intro-demo/runs/1g66ro4o</a><br/>\n",
              "                Run data is saved locally in <code>/content/wandb/run-20210704_192857-1g66ro4o</code><br/><br/>\n",
              "            "
            ],
            "text/plain": [
              "<IPython.core.display.HTML object>"
            ]
          },
          "metadata": {
            "tags": []
          }
        },
        {
          "output_type": "stream",
          "text": [
            "/usr/local/lib/python3.7/dist-packages/torch/utils/data/dataloader.py:481: UserWarning: This DataLoader will create 4 worker processes in total. Our suggested max number of worker in current system is 2, which is smaller than what this DataLoader is going to create. Please be aware that excessive worker creation might get DataLoader running slow or even freeze, lower the worker number to avoid potential slowness/freeze if necessary.\n",
            "  cpuset_checked))\n",
            "/usr/local/lib/python3.7/dist-packages/torch/nn/functional.py:718: UserWarning: Named tensors and all their associated APIs are an experimental feature and subject to change. Please do not use them for anything important until they are released as stable. (Triggered internally at  /pytorch/c10/core/TensorImpl.h:1156.)\n",
            "  return torch.max_pool2d(input, kernel_size, stride, padding, dilation, ceil_mode)\n"
          ],
          "name": "stderr"
        },
        {
          "output_type": "stream",
          "text": [
            "Time Elapsed: 86.69255948066711s\n"
          ],
          "name": "stdout"
        }
      ]
    },
    {
      "cell_type": "markdown",
      "metadata": {
        "id": "5UwiH2kloZ0O"
      },
      "source": [
        "# Attach snapshot of your **Weights and Biases** plot here! Add a few lines of your findings so far...\n",
        "## Next, predict on Test Dataset.."
      ]
    },
    {
      "cell_type": "code",
      "metadata": {
        "id": "IA9pgZJBAeH9",
        "colab": {
          "base_uri": "https://localhost:8080/"
        },
        "outputId": "7d8f5f73-1b70-469a-b679-1f219c4a58fa"
      },
      "source": [
        "def test_model(model):\n",
        "\n",
        "    start_time = time.time()\n",
        "\n",
        "    num_correct = 0\n",
        "    accuracy = 0\n",
        "\n",
        "    with torch.no_grad():\n",
        "\n",
        "        for batch in testloader:\n",
        "\n",
        "            images, labels = batch\n",
        "            images = images.to(device)\n",
        "            labels = labels.to(device)\n",
        "\n",
        "            total_images = len(testset)\n",
        "\n",
        "            pred = model(images)\n",
        "\n",
        "            num_correct_batch = pred.argmax(dim = 1).eq(labels).sum().item()\n",
        "\n",
        "            accuracy_batch = pred.argmax(dim = 1).eq(labels).float().mean().item()\n",
        "\n",
        "            num_correct += num_correct_batch\n",
        "            accuracy += accuracy_batch\n",
        "\n",
        "        accuracy /= len(testloader)\n",
        "\n",
        "    # Stop the timer at the end of the testing iterations and calculate elapsed time\n",
        "    end_time = time.time()\n",
        "    elapsed_time = end_time - start_time\n",
        "\n",
        "    # Print the number of test images, correct predictions and accuracy for the test dataset.\n",
        "    print('Number of test images: ' + str(total_images))\n",
        "    print('Number of correct predictions: ' + str(num_correct))\n",
        "    print('Accuracy: ' + str(accuracy))\n",
        "\n",
        "    # Print the time taken for predicting the data. It can be calculated using the difference between current time and start time. \n",
        "    print('Time Elapsed: ' + str(elapsed_time) + 's')\n",
        "    \n",
        "    # Current time can be retrieved using time.time()\n",
        "    \n",
        "# test the trained network    \n",
        "test_model(network)    "
      ],
      "execution_count": 8,
      "outputs": [
        {
          "output_type": "stream",
          "text": [
            "/usr/local/lib/python3.7/dist-packages/torch/utils/data/dataloader.py:481: UserWarning: This DataLoader will create 4 worker processes in total. Our suggested max number of worker in current system is 2, which is smaller than what this DataLoader is going to create. Please be aware that excessive worker creation might get DataLoader running slow or even freeze, lower the worker number to avoid potential slowness/freeze if necessary.\n",
            "  cpuset_checked))\n"
          ],
          "name": "stderr"
        },
        {
          "output_type": "stream",
          "text": [
            "Number of test images: 10000\n",
            "Number of correct predictions: 8068\n",
            "Accuracy: 0.8067999815940857\n",
            "Time Elapsed: 1.091585397720337s\n"
          ],
          "name": "stdout"
        }
      ]
    },
    {
      "cell_type": "markdown",
      "metadata": {
        "id": "gyC86g_155sM"
      },
      "source": [
        "# Now you know how to train and test a CNN model for image classification!"
      ]
    },
    {
      "cell_type": "markdown",
      "metadata": {
        "id": "7nlQl25Pky1P"
      },
      "source": [
        "# **Task 3**: Transfer Learning. To leverage pre-trained models, we will now declare a new Network that is pre-trained (Resnet50).\n",
        "## Your task here is to train this new network and monitor the training process on **Weights and Biases** as in Task 2.\n"
      ]
    },
    {
      "cell_type": "code",
      "metadata": {
        "id": "uvZIAtEeAfMN"
      },
      "source": [
        "# Start here###########################\n",
        "import torchvision\n",
        "import torchvision.models as models\n",
        "from torchvision import transforms\n",
        "import time\n",
        "from tqdm.autonotebook import tqdm\n",
        "from torch.utils.data import DataLoader\n",
        "from sklearn.metrics import precision_score, recall_score, f1_score, accuracy_score\n",
        "import inspect\n",
        "\n",
        "import matplotlib.pyplot as plt\n",
        "import numpy as np"
      ],
      "execution_count": 9,
      "outputs": []
    },
    {
      "cell_type": "code",
      "metadata": {
        "id": "QluyFujJZCV8"
      },
      "source": [
        "class MnistResNet(nn.Module):\n",
        "  def __init__(self, in_channels=1):\n",
        "    super(MnistResNet, self).__init__()\n",
        "\n",
        "    # Load a pretrained resnet model from torchvision.models in Pytorch\n",
        "    self.model = models.resnet50(pretrained=True)\n",
        "\n",
        "    # Change the input layer to take Grayscale image, instead of RGB images. \n",
        "    # Hence in_channels is set as 1 or 3 respectively\n",
        "    # original definition of the first layer on the ResNet class\n",
        "    # self.conv1 = nn.Conv2d(3, 64, kernel_size=7, stride=2, padding=3, bias=False)\n",
        "    self.model.conv1 = nn.Conv2d(in_channels, 64, kernel_size=7, stride=2, padding=3, bias=False)\n",
        "    \n",
        "    # Change the output layer to output 10 classes instead of 1000 classes\n",
        "    num_ftrs = self.model.fc.in_features\n",
        "    self.model.fc = nn.Linear(num_ftrs, 10)\n",
        "\n",
        "  def forward(self, x):\n",
        "    return self.model(x)\n",
        "\n",
        "\n"
      ],
      "execution_count": 10,
      "outputs": []
    },
    {
      "cell_type": "markdown",
      "metadata": {
        "id": "dx_uXvr3kT4H"
      },
      "source": [
        "## Next, initialize **Weights and Biases** as you did in Task 2 to train and test the fine-tuned version of Resnet50."
      ]
    },
    {
      "cell_type": "markdown",
      "metadata": {
        "id": "V6bvE2eAvt7Q"
      },
      "source": [
        "We are going to log the output in Weights and Biases. For more information on how to log in Weights and Biases see https://docs.wandb.ai/ref/python/log"
      ]
    },
    {
      "cell_type": "code",
      "metadata": {
        "colab": {
          "base_uri": "https://localhost:8080/",
          "height": 1000,
          "referenced_widgets": [
            "1619f4cfa46a4bf1821de91a0bfecbe3",
            "9716a45d97a04a99a55e473bedb3c52e",
            "0ebf253031fa4f5cb6e6d590be532582",
            "b6835e93a8f248baa2ae84e659be4e96",
            "b5aa0a92f2794db09089082feac36e67",
            "7a55f46f5e334fa6b082612c5767bfb8",
            "8238458e14c744f5827ce364e40f9e10",
            "44f61dbd3c5d4fc68c1537e2423639aa",
            "f861a70e969e4d2dbc6d6a4496e91d44",
            "77686677a2824cd29e80557e75cbcfb3",
            "0f319768a56c48a6b0af6cf0573d02df",
            "16fd7a2744e649e9be0a00c1d329b29a",
            "1d9936a122f84f81b45302f2f638e50d",
            "d701812cd23e46e3ad50d616d97a34ea",
            "ed893c22239348fd8141e801ee8986e4",
            "c62f6a242d6b4deb999870132b06b2c4"
          ]
        },
        "id": "mCpRQBATH7pX",
        "outputId": "6a4185db-783b-4876-e3dd-6346e5c61e40"
      },
      "source": [
        "# Initialize WandB \n",
        "# Set an experiment name to group training and evaluation\n",
        "experiment_name = wandb.util.generate_id()\n",
        "\n",
        "wandb.init(project=\"intro-demo\",\n",
        "           group=experiment_name,\n",
        "           notes='This is a second run', \n",
        "           tags=['Fashion MNIST', 'Test Run'])\n",
        "\n",
        "network = MnistResNet().to(device)\n",
        "criterion = nn.CrossEntropyLoss()\n",
        "optimizer = optim.Adam(network.parameters(), lr=3e-4)\n",
        "\n",
        "# Log the network weight histograms (optional)\n",
        "wandb.watch(network)\n",
        "\n",
        "num_epochs = 100\n",
        "start_time = time.time()\n",
        "for epoch in range(1, num_epochs+1):\n",
        "    \n",
        "    loss_train, acc_train = train(network, epoch, criterion, optimizer, trainloader)\n",
        "    loss_valid, acc_valid = validate(network, epoch, criterion, testloader)\n",
        "    \n",
        "    #Print the epoch number, training loss, training accuracy, validation loss and validation accuracy for each epoch\n",
        "    print('Epoch: ' + str(epoch) + '  Train Loss: '  + str(loss_train) + '  Train Acc: ' + str(acc_train) + '  Valid Loss: ' + str(loss_valid) + '  Valid Acc: ' + str(acc_valid))\n",
        "\n",
        "    # Log the loss and accuracy values at the end of each epoch\n",
        "    # ADD THE LOGING CODE HERE BY REFERING THE LINK PROVIDED\n",
        "    wandb.log(\n",
        "        {'Epoch': epoch, 'Train Loss': loss_train, 'Train Accuracy': acc_train, 'Valid Loss': loss_valid, 'Valid Accuracy': acc_valid},\n",
        "        step = epoch\n",
        "    )\n",
        "\n",
        "# Print the time taken for training the data. It can be calculated using the difference between current time and start time. \n",
        "end_time = time.time()\n",
        "elapsed_time = end_time - start_time\n",
        "\n",
        "print('Time Elapsed: ' + str(elapsed_time) + 's')\n",
        "# Current time can be retrieved using time.time()"
      ],
      "execution_count": 11,
      "outputs": [
        {
          "output_type": "display_data",
          "data": {
            "text/html": [
              "Finishing last run (ID:1g66ro4o) before initializing another..."
            ],
            "text/plain": [
              "<IPython.core.display.HTML object>"
            ]
          },
          "metadata": {
            "tags": []
          }
        },
        {
          "output_type": "display_data",
          "data": {
            "text/html": [
              "<br/>Waiting for W&B process to finish, PID 139<br/>Program ended successfully."
            ],
            "text/plain": [
              "<IPython.core.display.HTML object>"
            ]
          },
          "metadata": {
            "tags": []
          }
        },
        {
          "output_type": "display_data",
          "data": {
            "application/vnd.jupyter.widget-view+json": {
              "model_id": "1619f4cfa46a4bf1821de91a0bfecbe3",
              "version_minor": 0,
              "version_major": 2
            },
            "text/plain": [
              "VBox(children=(Label(value=' 0.00MB of 0.00MB uploaded (0.00MB deduped)\\r'), FloatProgress(value=1.0, max=1.0)…"
            ]
          },
          "metadata": {
            "tags": []
          }
        },
        {
          "output_type": "display_data",
          "data": {
            "text/html": [
              "Find user logs for this run at: <code>/content/wandb/run-20210704_192857-1g66ro4o/logs/debug.log</code>"
            ],
            "text/plain": [
              "<IPython.core.display.HTML object>"
            ]
          },
          "metadata": {
            "tags": []
          }
        },
        {
          "output_type": "display_data",
          "data": {
            "text/html": [
              "Find internal logs for this run at: <code>/content/wandb/run-20210704_192857-1g66ro4o/logs/debug-internal.log</code>"
            ],
            "text/plain": [
              "<IPython.core.display.HTML object>"
            ]
          },
          "metadata": {
            "tags": []
          }
        },
        {
          "output_type": "display_data",
          "data": {
            "text/html": [
              "<h3>Run summary:</h3><br/><style>\n",
              "    table.wandb td:nth-child(1) { padding: 0 10px; text-align: right }\n",
              "    </style><table class=\"wandb\">\n",
              "<tr><td>Epoch</td><td>100</td></tr><tr><td>Train Loss</td><td>0.00844</td></tr><tr><td>Train Acc</td><td>0.82</td></tr><tr><td>Valid Loss</td><td>0.01066</td></tr><tr><td>Valid Acc</td><td>0.72</td></tr><tr><td>_runtime</td><td>101</td></tr><tr><td>_timestamp</td><td>1625427038</td></tr><tr><td>_step</td><td>99</td></tr></table>"
            ],
            "text/plain": [
              "<IPython.core.display.HTML object>"
            ]
          },
          "metadata": {
            "tags": []
          }
        },
        {
          "output_type": "display_data",
          "data": {
            "text/html": [
              "<h3>Run history:</h3><br/><style>\n",
              "    table.wandb td:nth-child(1) { padding: 0 10px; text-align: right }\n",
              "    </style><table class=\"wandb\">\n",
              "<tr><td>Epoch</td><td>▁▁▁▁▂▂▂▂▂▃▃▃▃▃▃▄▄▄▄▄▅▅▅▅▅▅▆▆▆▆▆▇▇▇▇▇▇███</td></tr><tr><td>Train Loss</td><td>███▆▅▄▃▃▃▂▂▂▂▂▂▂▂▁▂▂▂▁▂▁▁▁▁▁▁▁▁▁▁▁▁▁▁▁▁▁</td></tr><tr><td>Train Acc</td><td>▁▂▁▃▅▅▆▅▆▆▇▇▇▇▇▇▇▇▇▇▇▇▇██▇▇█████████████</td></tr><tr><td>Valid Loss</td><td>█▇▆▆▄▄▃▄▃▃▃▃▂▂▃▂▂▂▂▂▁▂▁▂▂▂▃▂▂▂▂▂▁▁▁▁▁▁▁▂</td></tr><tr><td>Valid Acc</td><td>▁▃▄▄▅▅▅▅▆▅▇▆▇▇▆▇▇▆▇▇▇▇▇▇▇▇▇▇▇▇▇▇█▇▇█▇█▇▇</td></tr><tr><td>_runtime</td><td>▁▁▁▁▂▂▂▂▂▃▃▃▃▃▃▄▄▄▄▄▅▅▅▅▅▅▆▆▆▆▆▆▇▇▇▇▇███</td></tr><tr><td>_timestamp</td><td>▁▁▁▁▂▂▂▂▂▃▃▃▃▃▃▄▄▄▄▄▅▅▅▅▅▅▆▆▆▆▆▆▇▇▇▇▇███</td></tr><tr><td>_step</td><td>▁▁▁▁▂▂▂▂▂▃▃▃▃▃▃▄▄▄▄▄▅▅▅▅▅▅▆▆▆▆▆▇▇▇▇▇▇███</td></tr></table><br/>"
            ],
            "text/plain": [
              "<IPython.core.display.HTML object>"
            ]
          },
          "metadata": {
            "tags": []
          }
        },
        {
          "output_type": "display_data",
          "data": {
            "text/html": [
              "Synced 5 W&B file(s), 1 media file(s), 0 artifact file(s) and 0 other file(s)"
            ],
            "text/plain": [
              "<IPython.core.display.HTML object>"
            ]
          },
          "metadata": {
            "tags": []
          }
        },
        {
          "output_type": "display_data",
          "data": {
            "text/html": [
              "\n",
              "                    <br/>Synced <strong style=\"color:#cdcd00\">comfy-thunder-1</strong>: <a href=\"https://wandb.ai/jamesysato/intro-demo/runs/1g66ro4o\" target=\"_blank\">https://wandb.ai/jamesysato/intro-demo/runs/1g66ro4o</a><br/>\n",
              "                "
            ],
            "text/plain": [
              "<IPython.core.display.HTML object>"
            ]
          },
          "metadata": {
            "tags": []
          }
        },
        {
          "output_type": "display_data",
          "data": {
            "text/html": [
              "...Successfully finished last run (ID:1g66ro4o). Initializing new run:<br/><br/>"
            ],
            "text/plain": [
              "<IPython.core.display.HTML object>"
            ]
          },
          "metadata": {
            "tags": []
          }
        },
        {
          "output_type": "display_data",
          "data": {
            "text/html": [
              "\n",
              "                Tracking run with wandb version 0.10.33<br/>\n",
              "                Syncing run <strong style=\"color:#cdcd00\">splendid-plant-2</strong> to <a href=\"https://wandb.ai\" target=\"_blank\">Weights & Biases</a> <a href=\"https://docs.wandb.com/integrations/jupyter.html\" target=\"_blank\">(Documentation)</a>.<br/>\n",
              "                Project page: <a href=\"https://wandb.ai/jamesysato/intro-demo\" target=\"_blank\">https://wandb.ai/jamesysato/intro-demo</a><br/>\n",
              "                Run page: <a href=\"https://wandb.ai/jamesysato/intro-demo/runs/233hbi20\" target=\"_blank\">https://wandb.ai/jamesysato/intro-demo/runs/233hbi20</a><br/>\n",
              "                Run data is saved locally in <code>/content/wandb/run-20210704_193039-233hbi20</code><br/><br/>\n",
              "            "
            ],
            "text/plain": [
              "<IPython.core.display.HTML object>"
            ]
          },
          "metadata": {
            "tags": []
          }
        },
        {
          "output_type": "stream",
          "text": [
            "Downloading: \"https://download.pytorch.org/models/resnet50-0676ba61.pth\" to /root/.cache/torch/hub/checkpoints/resnet50-0676ba61.pth\n"
          ],
          "name": "stderr"
        },
        {
          "output_type": "display_data",
          "data": {
            "application/vnd.jupyter.widget-view+json": {
              "model_id": "f861a70e969e4d2dbc6d6a4496e91d44",
              "version_minor": 0,
              "version_major": 2
            },
            "text/plain": [
              "HBox(children=(FloatProgress(value=0.0, max=102530333.0), HTML(value='')))"
            ]
          },
          "metadata": {
            "tags": []
          }
        },
        {
          "output_type": "stream",
          "text": [
            "\n"
          ],
          "name": "stdout"
        },
        {
          "output_type": "stream",
          "text": [
            "/usr/local/lib/python3.7/dist-packages/torch/utils/data/dataloader.py:481: UserWarning: This DataLoader will create 4 worker processes in total. Our suggested max number of worker in current system is 2, which is smaller than what this DataLoader is going to create. Please be aware that excessive worker creation might get DataLoader running slow or even freeze, lower the worker number to avoid potential slowness/freeze if necessary.\n",
            "  cpuset_checked))\n"
          ],
          "name": "stderr"
        },
        {
          "output_type": "stream",
          "text": [
            "Epoch: 1  Train Loss: 0.03933259646097819  Train Acc: 0.10300000756978989  Valid Loss: 0.04585845073064168  Valid Acc: 0.12999999523162842\n",
            "Epoch: 2  Train Loss: 0.03529128630956014  Train Acc: 0.2980000078678131  Valid Loss: 0.04373374382654826  Valid Acc: 0.11999999731779099\n",
            "Epoch: 3  Train Loss: 0.027272194623947144  Train Acc: 0.5490000247955322  Valid Loss: 0.04321106274922689  Valid Acc: 0.10999999940395355\n",
            "Epoch: 4  Train Loss: 0.019932506481806438  Train Acc: 0.6730000376701355  Valid Loss: 0.04287647008895874  Valid Acc: 0.07999999821186066\n",
            "Epoch: 5  Train Loss: 0.014815449714660645  Train Acc: 0.7290000319480896  Valid Loss: 0.03922098477681478  Valid Acc: 0.10999999940395355\n",
            "Epoch: 6  Train Loss: 0.01318968137105306  Train Acc: 0.7320000529289246  Valid Loss: 0.0422603448232015  Valid Acc: 0.09999999403953552\n",
            "Epoch: 7  Train Loss: 0.011914106210072835  Train Acc: 0.7470000386238098  Valid Loss: 0.04125805695851644  Valid Acc: 0.08999999612569809\n",
            "Epoch: 8  Train Loss: 0.010342145959536234  Train Acc: 0.7640000581741333  Valid Loss: 0.04026648998260498  Valid Acc: 0.10999999940395355\n",
            "Epoch: 9  Train Loss: 0.010637136300404866  Train Acc: 0.7620000243186951  Valid Loss: 0.0408927043279012  Valid Acc: 0.10999999940395355\n",
            "Epoch: 10  Train Loss: 0.009545984864234924  Train Acc: 0.781000018119812  Valid Loss: 0.03977328936258952  Valid Acc: 0.14000000059604645\n",
            "Epoch: 11  Train Loss: 0.010383611917495728  Train Acc: 0.7820000648498535  Valid Loss: 0.03796153068542481  Valid Acc: 0.19999998807907104\n",
            "Epoch: 12  Train Loss: 0.00904109279314677  Train Acc: 0.8020000457763672  Valid Loss: 0.03588871955871582  Valid Acc: 0.17000000178813934\n",
            "Epoch: 13  Train Loss: 0.009485470255215962  Train Acc: 0.7930000424385071  Valid Loss: 0.035615440209706625  Valid Acc: 0.22999998927116394\n",
            "Epoch: 14  Train Loss: 0.00828374723593394  Train Acc: 0.8110000491142273  Valid Loss: 0.03170792063077291  Valid Acc: 0.28999999165534973\n",
            "Epoch: 15  Train Loss: 0.009032093485196431  Train Acc: 0.7890000343322754  Valid Loss: 0.02989764412244161  Valid Acc: 0.28999999165534973\n",
            "Epoch: 16  Train Loss: 0.008402283986409504  Train Acc: 0.8110000491142273  Valid Loss: 0.02719731330871582  Valid Acc: 0.32999998331069946\n",
            "Epoch: 17  Train Loss: 0.006944899260997772  Train Acc: 0.8360000252723694  Valid Loss: 0.026486200094223023  Valid Acc: 0.32999998331069946\n",
            "Epoch: 18  Train Loss: 0.00804221232732137  Train Acc: 0.8240000605583191  Valid Loss: 0.024019569158554077  Valid Acc: 0.4399999976158142\n",
            "Epoch: 19  Train Loss: 0.008306493361790976  Train Acc: 0.812000036239624  Valid Loss: 0.022077123324076336  Valid Acc: 0.4699999988079071\n",
            "Epoch: 20  Train Loss: 0.0074911370873451235  Train Acc: 0.8290000557899475  Valid Loss: 0.023201205333073936  Valid Acc: 0.4599999785423279\n",
            "Epoch: 21  Train Loss: 0.007802713910738627  Train Acc: 0.8380000591278076  Valid Loss: 0.02202440102895101  Valid Acc: 0.44999998807907104\n",
            "Epoch: 22  Train Loss: 0.0073399116595586145  Train Acc: 0.8330000638961792  Valid Loss: 0.02521815299987793  Valid Acc: 0.3999999761581421\n",
            "Epoch: 23  Train Loss: 0.007656074066956838  Train Acc: 0.8220000267028809  Valid Loss: 0.019325766960779825  Valid Acc: 0.5799999833106995\n",
            "Epoch: 24  Train Loss: 0.007670101523399353  Train Acc: 0.8320000171661377  Valid Loss: 0.016343157490094504  Valid Acc: 0.5299999713897705\n",
            "Epoch: 25  Train Loss: 0.006616743405659994  Train Acc: 0.8500000238418579  Valid Loss: 0.020123215516408284  Valid Acc: 0.47999998927116394\n",
            "Epoch: 26  Train Loss: 0.007430026928583781  Train Acc: 0.8290000557899475  Valid Loss: 0.01891398827234904  Valid Acc: 0.5399999618530273\n",
            "Epoch: 27  Train Loss: 0.006863412261009216  Train Acc: 0.843000054359436  Valid Loss: 0.015520796179771423  Valid Acc: 0.5999999642372131\n",
            "Epoch: 28  Train Loss: 0.007620095213254293  Train Acc: 0.8370000123977661  Valid Loss: 0.01754496494928996  Valid Acc: 0.5299999713897705\n",
            "Epoch: 29  Train Loss: 0.006610100964705149  Train Acc: 0.859000027179718  Valid Loss: 0.01826129158337911  Valid Acc: 0.5600000023841858\n",
            "Epoch: 30  Train Loss: 0.006460218628247579  Train Acc: 0.8580000400543213  Valid Loss: 0.01475118100643158  Valid Acc: 0.6100000143051147\n",
            "Epoch: 31  Train Loss: 0.0066815381248792015  Train Acc: 0.8510000109672546  Valid Loss: 0.012990565101305643  Valid Acc: 0.699999988079071\n",
            "Epoch: 32  Train Loss: 0.006055096288522085  Train Acc: 0.8690000176429749  Valid Loss: 0.017848902940750123  Valid Acc: 0.5899999737739563\n",
            "Epoch: 33  Train Loss: 0.006574992835521698  Train Acc: 0.8560000658035278  Valid Loss: 0.013177661101023357  Valid Acc: 0.7099999785423279\n",
            "Epoch: 34  Train Loss: 0.005426445603370666  Train Acc: 0.8810000419616699  Valid Loss: 0.012678232789039613  Valid Acc: 0.6599999666213989\n",
            "Epoch: 35  Train Loss: 0.005227812627951304  Train Acc: 0.8850000500679016  Valid Loss: 0.01230116883913676  Valid Acc: 0.699999988079071\n",
            "Epoch: 36  Train Loss: 0.006395130852858226  Train Acc: 0.8650000691413879  Valid Loss: 0.01198109785715739  Valid Acc: 0.699999988079071\n",
            "Epoch: 37  Train Loss: 0.006749875843524933  Train Acc: 0.8520000576972961  Valid Loss: 0.012036308646202087  Valid Acc: 0.7400000095367432\n",
            "Epoch: 38  Train Loss: 0.005221912264823913  Train Acc: 0.9010000228881836  Valid Loss: 0.00810109128554662  Valid Acc: 0.75\n",
            "Epoch: 39  Train Loss: 0.006831960876782736  Train Acc: 0.8690000176429749  Valid Loss: 0.00844488243261973  Valid Acc: 0.7999999523162842\n",
            "Epoch: 40  Train Loss: 0.006420903404553731  Train Acc: 0.8500000238418579  Valid Loss: 0.013804187377293905  Valid Acc: 0.6699999570846558\n",
            "Epoch: 41  Train Loss: 0.005957680940628052  Train Acc: 0.8710000514984131  Valid Loss: 0.012077930569648742  Valid Acc: 0.7599999904632568\n",
            "Epoch: 42  Train Loss: 0.0049870356917381285  Train Acc: 0.89000004529953  Valid Loss: 0.012866849700609842  Valid Acc: 0.75\n",
            "Epoch: 43  Train Loss: 0.005590349435806274  Train Acc: 0.8720000386238098  Valid Loss: 0.011118607719739278  Valid Acc: 0.7799999713897705\n",
            "Epoch: 44  Train Loss: 0.006385233998298645  Train Acc: 0.8500000238418579  Valid Loss: 0.01196774144967397  Valid Acc: 0.7299999594688416\n",
            "Epoch: 45  Train Loss: 0.005432133873303731  Train Acc: 0.8730000257492065  Valid Loss: 0.007276919484138489  Valid Acc: 0.85999995470047\n",
            "Epoch: 46  Train Loss: 0.005603274703025818  Train Acc: 0.8760000467300415  Valid Loss: 0.006577182312806447  Valid Acc: 0.85999995470047\n",
            "Epoch: 47  Train Loss: 0.0052004476388295496  Train Acc: 0.89000004529953  Valid Loss: 0.011423078179359437  Valid Acc: 0.8199999928474426\n",
            "Epoch: 48  Train Loss: 0.005589693288008372  Train Acc: 0.8680000305175781  Valid Loss: 0.0073720872402191166  Valid Acc: 0.8299999833106995\n",
            "Epoch: 49  Train Loss: 0.005444564421971639  Train Acc: 0.8740000128746033  Valid Loss: 0.008953327933947245  Valid Acc: 0.8199999928474426\n",
            "Epoch: 50  Train Loss: 0.00561693807442983  Train Acc: 0.8790000677108765  Valid Loss: 0.0061487605174382525  Valid Acc: 0.8399999737739563\n",
            "Epoch: 51  Train Loss: 0.00545244961977005  Train Acc: 0.8840000629425049  Valid Loss: 0.008083784580230713  Valid Acc: 0.7599999904632568\n",
            "Epoch: 52  Train Loss: 0.0050911977887153625  Train Acc: 0.8920000195503235  Valid Loss: 0.006854911148548126  Valid Acc: 0.8499999642372131\n",
            "Epoch: 53  Train Loss: 0.005846540629863739  Train Acc: 0.8790000677108765  Valid Loss: 0.007853581508000692  Valid Acc: 0.7699999809265137\n",
            "Epoch: 54  Train Loss: 0.006124081214269003  Train Acc: 0.862000048160553  Valid Loss: 0.006041584412256876  Valid Acc: 0.85999995470047\n",
            "Epoch: 55  Train Loss: 0.005133780837059021  Train Acc: 0.8810000419616699  Valid Loss: 0.007210082809130351  Valid Acc: 0.8899999856948853\n",
            "Epoch: 56  Train Loss: 0.004836052656173706  Train Acc: 0.8950000405311584  Valid Loss: 0.007869601746400197  Valid Acc: 0.8299999833106995\n",
            "Epoch: 57  Train Loss: 0.0050198987126350405  Train Acc: 0.8850000500679016  Valid Loss: 0.0071517239014307656  Valid Acc: 0.8199999928474426\n",
            "Epoch: 58  Train Loss: 0.005830559631188711  Train Acc: 0.8650000691413879  Valid Loss: 0.007086724539597829  Valid Acc: 0.8199999928474426\n",
            "Epoch: 59  Train Loss: 0.005331126352151235  Train Acc: 0.8870000243186951  Valid Loss: 0.003604314724604289  Valid Acc: 0.9399999976158142\n",
            "Epoch: 60  Train Loss: 0.00476789524157842  Train Acc: 0.8910000324249268  Valid Loss: 0.006462708612283071  Valid Acc: 0.8499999642372131\n",
            "Epoch: 61  Train Loss: 0.004628097514311472  Train Acc: 0.8960000276565552  Valid Loss: 0.005915425221125285  Valid Acc: 0.85999995470047\n",
            "Epoch: 62  Train Loss: 0.005015065272649129  Train Acc: 0.8870000243186951  Valid Loss: 0.006875081360340119  Valid Acc: 0.85999995470047\n",
            "Epoch: 63  Train Loss: 0.005197653174400329  Train Acc: 0.8770000338554382  Valid Loss: 0.0048886328935623165  Valid Acc: 0.85999995470047\n",
            "Epoch: 64  Train Loss: 0.003941127409537633  Train Acc: 0.9150000214576721  Valid Loss: 0.005232291420300802  Valid Acc: 0.8799999952316284\n",
            "Epoch: 65  Train Loss: 0.0052869374553362524  Train Acc: 0.8810000419616699  Valid Loss: 0.00730952521165212  Valid Acc: 0.85999995470047\n",
            "Epoch: 66  Train Loss: 0.004838694135348002  Train Acc: 0.8990000486373901  Valid Loss: 0.006802974144617716  Valid Acc: 0.85999995470047\n",
            "Epoch: 67  Train Loss: 0.0050390650828679405  Train Acc: 0.8960000276565552  Valid Loss: 0.006826436519622803  Valid Acc: 0.8299999833106995\n",
            "Epoch: 68  Train Loss: 0.004934543371200561  Train Acc: 0.8800000548362732  Valid Loss: 0.006205910444259643  Valid Acc: 0.8799999952316284\n",
            "Epoch: 69  Train Loss: 0.00432603508234024  Train Acc: 0.9070000648498535  Valid Loss: 0.004172095159689585  Valid Acc: 0.8899999856948853\n",
            "Epoch: 70  Train Loss: 0.004245287676652273  Train Acc: 0.9130000472068787  Valid Loss: 0.006598615646362304  Valid Acc: 0.8700000047683716\n",
            "Epoch: 71  Train Loss: 0.005049127837022146  Train Acc: 0.89000004529953  Valid Loss: 0.008649983008702596  Valid Acc: 0.8199999928474426\n",
            "Epoch: 72  Train Loss: 0.005004433790842692  Train Acc: 0.8940000534057617  Valid Loss: 0.005040669937928518  Valid Acc: 0.8999999761581421\n",
            "Epoch: 73  Train Loss: 0.004280696312586467  Train Acc: 0.9050000309944153  Valid Loss: 0.00804473708073298  Valid Acc: 0.7799999713897705\n",
            "Epoch: 74  Train Loss: 0.004382810493310293  Train Acc: 0.9020000696182251  Valid Loss: 0.005347086489200592  Valid Acc: 0.8899999856948853\n",
            "Epoch: 75  Train Loss: 0.004422503709793091  Train Acc: 0.906000018119812  Valid Loss: 0.006290362775325775  Valid Acc: 0.8700000047683716\n",
            "Epoch: 76  Train Loss: 0.0043820624550183615  Train Acc: 0.8980000615119934  Valid Loss: 0.009201290210088094  Valid Acc: 0.7899999618530273\n",
            "Epoch: 77  Train Loss: 0.004309450089931488  Train Acc: 0.9070000648498535  Valid Loss: 0.006201028823852539  Valid Acc: 0.8899999856948853\n",
            "Epoch: 78  Train Loss: 0.0043282702565193175  Train Acc: 0.9070000648498535  Valid Loss: 0.003525804728269577  Valid Acc: 0.9199999570846558\n",
            "Epoch: 79  Train Loss: 0.005043969551722208  Train Acc: 0.8970000147819519  Valid Loss: 0.0048794289429982506  Valid Acc: 0.9300000071525574\n",
            "Epoch: 80  Train Loss: 0.005163049201170603  Train Acc: 0.89000004529953  Valid Loss: 0.005077944695949554  Valid Acc: 0.9199999570846558\n",
            "Epoch: 81  Train Loss: 0.004545490443706513  Train Acc: 0.8950000405311584  Valid Loss: 0.004336724678675334  Valid Acc: 0.85999995470047\n",
            "Epoch: 82  Train Loss: 0.00441847542921702  Train Acc: 0.9010000228881836  Valid Loss: 0.005712655186653137  Valid Acc: 0.85999995470047\n",
            "Epoch: 83  Train Loss: 0.004333961506684621  Train Acc: 0.9190000295639038  Valid Loss: 0.005333952109018962  Valid Acc: 0.8999999761581421\n",
            "Epoch: 84  Train Loss: 0.004781673351923625  Train Acc: 0.8950000405311584  Valid Loss: 0.0023731504877408344  Valid Acc: 0.9399999976158142\n",
            "Epoch: 85  Train Loss: 0.004335674146811168  Train Acc: 0.9000000357627869  Valid Loss: 0.0068832283218701685  Valid Acc: 0.8700000047683716\n",
            "Epoch: 86  Train Loss: 0.004424761732419332  Train Acc: 0.9170000553131104  Valid Loss: 0.004754262169202169  Valid Acc: 0.8799999952316284\n",
            "Epoch: 87  Train Loss: 0.004295993347962697  Train Acc: 0.906000018119812  Valid Loss: 0.005711596707503001  Valid Acc: 0.8999999761581421\n",
            "Epoch: 88  Train Loss: 0.004682178795337677  Train Acc: 0.9080000519752502  Valid Loss: 0.005046383539835612  Valid Acc: 0.9099999666213989\n",
            "Epoch: 89  Train Loss: 0.004369789361953735  Train Acc: 0.8990000486373901  Valid Loss: 0.006502233942349752  Valid Acc: 0.8399999737739563\n",
            "Epoch: 90  Train Loss: 0.004203809797763825  Train Acc: 0.9130000472068787  Valid Loss: 0.003736158460378647  Valid Acc: 0.9099999666213989\n",
            "Epoch: 91  Train Loss: 0.0036521402498086294  Train Acc: 0.9220000505447388  Valid Loss: 0.004181472460428873  Valid Acc: 0.9199999570846558\n",
            "Epoch: 92  Train Loss: 0.004544165730476379  Train Acc: 0.9050000309944153  Valid Loss: 0.004682521025339763  Valid Acc: 0.8899999856948853\n",
            "Epoch: 93  Train Loss: 0.003954452524582545  Train Acc: 0.906000018119812  Valid Loss: 0.005748562018076579  Valid Acc: 0.85999995470047\n",
            "Epoch: 94  Train Loss: 0.004298678537209829  Train Acc: 0.8990000486373901  Valid Loss: 0.0054403940836588545  Valid Acc: 0.8899999856948853\n",
            "Epoch: 95  Train Loss: 0.0050856327017148335  Train Acc: 0.8960000276565552  Valid Loss: 0.004659636815388998  Valid Acc: 0.8999999761581421\n",
            "Epoch: 96  Train Loss: 0.0037629572053750355  Train Acc: 0.9180000424385071  Valid Loss: 0.006865245103836059  Valid Acc: 0.8399999737739563\n",
            "Epoch: 97  Train Loss: 0.00448532650868098  Train Acc: 0.9130000472068787  Valid Loss: 0.005829959114392599  Valid Acc: 0.85999995470047\n",
            "Epoch: 98  Train Loss: 0.00435655415058136  Train Acc: 0.9040000438690186  Valid Loss: 0.005752755701541901  Valid Acc: 0.8799999952316284\n",
            "Epoch: 99  Train Loss: 0.004111712922652563  Train Acc: 0.9010000228881836  Valid Loss: 0.006043188273906708  Valid Acc: 0.85999995470047\n",
            "Epoch: 100  Train Loss: 0.0037360417346159617  Train Acc: 0.9050000309944153  Valid Loss: 0.005272343754768372  Valid Acc: 0.9399999976158142\n",
            "Time Elapsed: 173.7451741695404s\n"
          ],
          "name": "stdout"
        }
      ]
    },
    {
      "cell_type": "markdown",
      "metadata": {
        "id": "2vFD-yQcdFoz"
      },
      "source": [
        "# Now, lets visualize some of the predictions\n"
      ]
    },
    {
      "cell_type": "code",
      "metadata": {
        "colab": {
          "base_uri": "https://localhost:8080/",
          "height": 335
        },
        "id": "tdoET1OWdEwA",
        "outputId": "1d58a38b-39bd-47f7-982b-cfe08d22a609"
      },
      "source": [
        "for batch in testloader:\n",
        "    images, labels = batch\n",
        "    for i in range(0, 9):\n",
        "            plt.subplot(330+1 + i)\n",
        "            plt.imshow(np.reshape(images[i],(28,28)), cmap=plt.get_cmap('gray'))\n",
        "            plt.title(np.array(labels[i]))\n",
        "\n",
        "    plt.show()\n",
        "    break"
      ],
      "execution_count": 12,
      "outputs": [
        {
          "output_type": "stream",
          "text": [
            "/usr/local/lib/python3.7/dist-packages/torch/utils/data/dataloader.py:481: UserWarning: This DataLoader will create 4 worker processes in total. Our suggested max number of worker in current system is 2, which is smaller than what this DataLoader is going to create. Please be aware that excessive worker creation might get DataLoader running slow or even freeze, lower the worker number to avoid potential slowness/freeze if necessary.\n",
            "  cpuset_checked))\n"
          ],
          "name": "stderr"
        },
        {
          "output_type": "display_data",
          "data": {
            "image/png": "[encoded data removed]",
            "text/plain": [
              "<Figure size 432x288 with 9 Axes>"
            ]
          },
          "metadata": {
            "tags": [],
            "needs_background": "light"
          }
        }
      ]
    },
    {
      "cell_type": "markdown",
      "metadata": {
        "id": "anwQlRcZ8yV-"
      },
      "source": [
        "# **Task 4**: Now that we have trained two CNN models, we need to monitor their progress on production data.\n",
        "\n",
        "## Notice that at production time, you dont have access to groundtruth (i.e. actual labels). Lets answer these questions first! Write the answers to these questions below.\n",
        "## Q1: **What could be some metrics that you monitor at production time?** Think about data and concept drift that needs to be monitored.\n",
        "\n",
        "We could measure the output ratio from the model and check to see if there was drifts from the training-time dataset ratio, which could indicate drift in the dataset. We could also look into the model outputs before the final fully connected layers and compare the model output averages at that point with the same point in the model with the training-time data to see if data features in production are as strongly activating the final layer as the training set, which could indicate drift.\n",
        "\n",
        "## Q2: If you had data flow **in batches**, as opposed to individual samples, **what would your metrics to be monitored be**?\n",
        "\n",
        "We could compare the output metrics per batch like explained in question 1. We could pair output ratios from the batches on average and compare it to that during train time to help indicate drift. Same for measuring metrics before the fully connected layer.\n",
        "\n",
        "--------------------------------------------------------------------------------\n",
        "\n",
        "## **HINTS**: \n",
        "### 1. Think of data in batches of 10 (since 10 classes equally likely for data distribution here). Now, if the distribution of data in batches of 10 changes from uniform to something else that that would mean **DATA DRIFT**. So you could count the number of predicted samples per class and use that as a metric to identify Data Drift.\n",
        "###2. Model output is always probabilistic. So if the range of probabilities (max prob and mean prob) shifts across batches, that can mean a certain degree of concept drift.\n"
      ]
    },
    {
      "cell_type": "markdown",
      "metadata": {
        "id": "5UBXFTw9tYsH"
      },
      "source": [
        "## Now that you have an idea of some prodction metrics you need to mobitor, initialize a new **Weights and Biases** Run and monitor the metrics for some epochs."
      ]
    },
    {
      "cell_type": "markdown",
      "metadata": {
        "id": "WPbaCkLExtBi"
      },
      "source": [
        "We are going to log the output in Weights and Biases. For more information on how to log in Weights and Biases see https://docs.wandb.ai/ref/python/log\n",
        "\n",
        "# Please remember to start a NEW RUN to log your data or else you will NOT be able to infer from the plots."
      ]
    },
    {
      "cell_type": "code",
      "metadata": {
        "colab": {
          "base_uri": "https://localhost:8080/",
          "height": 1000,
          "referenced_widgets": [
            "13f26aab46a54ea2b99ece4d4dc317b1",
            "06b4dde93b9b4fc3ae99d62f4743c2fa",
            "07a1bb454c5d44429204ebfbd7178f02",
            "400c1bb4d6f24db1bfab324d0e0e2e57",
            "39a0f949779e448e82f2f6f21fc2c603",
            "a370ad15f882496aa8d21f1a6fcfc358",
            "ef31226c91c5450ba7a3cdf81eba8422",
            "0e132ed7edc74e269f14111b736a5d52"
          ]
        },
        "id": "8PE-DHwmm-cM",
        "outputId": "d12ad746-876a-4415-d943-4520a1a14016"
      },
      "source": [
        "experiment_name = wandb.util.generate_id()\n",
        "wandb.init(project=\"intro-demo\",\n",
        "           group=experiment_name,\n",
        "           notes='This is Test Run', \n",
        "           tags=['Fashion MNIST', 'Production'])\n",
        "\n",
        "\n",
        "\n",
        "num_epochs = 30\n",
        "\n",
        "for epoch in range(1, num_epochs+1):\n",
        "  #Next lets declare the metrics to monitor at production time\n",
        "  # Initialize all the matrics that we are goint to monitor here. \n",
        "  # Initialize accuracy, number of correct predictions, start time, minimum batch output, maximum batch output and number of batches here. \n",
        "  # NOTE: Current time can be calculated using time.time() function. Here, the start_time would be current time.\n",
        "  accuracy = num_correct = num_batches = total_images = 0\n",
        "  min_batch_op = max_batch_op = []\n",
        "  start_time = time.time()\n",
        "\n",
        "  print(epoch)\n",
        "\n",
        "  ##### Write code to monitor the metrics you decided at run time###########\n",
        "\n",
        "  for batch in prodloader: # Consider a batch of 10 images at a time\n",
        "    images, labels = batch\n",
        "    images = images.to(device)\n",
        "    labels = labels.to(device)\n",
        "    # We are trying to calculate the total number of images for the test. \n",
        "    # ADD YOUR CODE TO CALCULATE TOTAL NUMBER OF IMAGES IN THE TEST SET\n",
        "    total_images += len(images)\n",
        "\n",
        "    # We are going to get the predictions for the images from the network here.\n",
        "    # ADD YOUR CODE TO PASS IMAGES PER BATCH TO THE NETWORK HERE\n",
        "    pred = network(images)\n",
        "\n",
        "    pred_batch=sorted(pred.argmax(dim=1).cpu().numpy())\n",
        "\n",
        "    # We are going to calculate the number of outcomes for each prediction batch using count_outcomes function declared earlier.\n",
        "    #ADD YOUR CODE HERE TO COUNT THE NUMBER OF OUTCOMES USING count_outcomes FOR prediction batch HERE\n",
        "    \n",
        "    num_batch = sum(count_outcomes(pred_batch))\n",
        "\n",
        "    num_batches=num_batches+num_batch\n",
        "    num_correct_batch = pred.argmax(dim = 1).eq(labels).sum().item()\n",
        "    accuracy_batch = pred.argmax(dim = 1).eq(labels).float().mean().item()\n",
        "    num_correct +=num_correct_batch\n",
        "    accuracy += accuracy_batch\n",
        "    max_val=np.max(pred.max(dim=1).values.cpu().detach().numpy())\n",
        "    min_val=np.min(pred.min(dim=1).values.cpu().detach().numpy())\n",
        "    max_batch_op.append(max_val)\n",
        "    min_batch_op.append(min_val)\n",
        " \n",
        "  # The batch time for each batch would be the difference between current time and start time.\n",
        "  # ADD YOUR CODE TO CALCULATE batch_time HERE\n",
        "  batch_time = time.time() - start_time\n",
        "\n",
        "  # print(num_correct, accuracy/len(prodloader), batch_time, num_batches, max(max_batch_op),min(min_batch_op))\n",
        "  \n",
        "  # Log the metrics defined earlier \n",
        "    # ADD THE LOGING CODE FOR METRICS HERE BY REFERING THE LINK PROVIDED\n",
        "    # THE VALUES THAT WE ARE LOGING ARE batch time, number of correct predictions, batch accuracy, maximum batch output, minimum batch output, number of predictions for each batch.\n",
        "  wandb.log(\n",
        "        {'Epoch Time': batch_time, 'Number of Correct Predictions': num_correct, 'Epoch Accuracy': accuracy, 'Max Epoch Output': max(max_batch_op), 'Min Epoch Output': min(min_batch_op), 'Number of Predictions': num_batches}\n",
        "  )\n",
        " \n"
      ],
      "execution_count": 13,
      "outputs": [
        {
          "output_type": "display_data",
          "data": {
            "text/html": [
              "Finishing last run (ID:233hbi20) before initializing another..."
            ],
            "text/plain": [
              "<IPython.core.display.HTML object>"
            ]
          },
          "metadata": {
            "tags": []
          }
        },
        {
          "output_type": "display_data",
          "data": {
            "text/html": [
              "<br/>Waiting for W&B process to finish, PID 3915<br/>Program ended successfully."
            ],
            "text/plain": [
              "<IPython.core.display.HTML object>"
            ]
          },
          "metadata": {
            "tags": []
          }
        },
        {
          "output_type": "display_data",
          "data": {
            "application/vnd.jupyter.widget-view+json": {
              "model_id": "13f26aab46a54ea2b99ece4d4dc317b1",
              "version_minor": 0,
              "version_major": 2
            },
            "text/plain": [
              "VBox(children=(Label(value=' 0.02MB of 0.02MB uploaded (0.00MB deduped)\\r'), FloatProgress(value=1.0, max=1.0)…"
            ]
          },
          "metadata": {
            "tags": []
          }
        },
        {
          "output_type": "display_data",
          "data": {
            "text/html": [
              "Find user logs for this run at: <code>/content/wandb/run-20210704_193039-233hbi20/logs/debug.log</code>"
            ],
            "text/plain": [
              "<IPython.core.display.HTML object>"
            ]
          },
          "metadata": {
            "tags": []
          }
        },
        {
          "output_type": "display_data",
          "data": {
            "text/html": [
              "Find internal logs for this run at: <code>/content/wandb/run-20210704_193039-233hbi20/logs/debug-internal.log</code>"
            ],
            "text/plain": [
              "<IPython.core.display.HTML object>"
            ]
          },
          "metadata": {
            "tags": []
          }
        },
        {
          "output_type": "display_data",
          "data": {
            "text/html": [
              "<h3>Run summary:</h3><br/><style>\n",
              "    table.wandb td:nth-child(1) { padding: 0 10px; text-align: right }\n",
              "    </style><table class=\"wandb\">\n",
              "<tr><td>Epoch</td><td>100</td></tr><tr><td>Train Loss</td><td>0.00374</td></tr><tr><td>Train Accuracy</td><td>0.905</td></tr><tr><td>Valid Loss</td><td>0.00527</td></tr><tr><td>Valid Accuracy</td><td>0.94</td></tr><tr><td>_runtime</td><td>178</td></tr><tr><td>_timestamp</td><td>1625427220</td></tr><tr><td>_step</td><td>100</td></tr></table>"
            ],
            "text/plain": [
              "<IPython.core.display.HTML object>"
            ]
          },
          "metadata": {
            "tags": []
          }
        },
        {
          "output_type": "display_data",
          "data": {
            "text/html": [
              "<h3>Run history:</h3><br/><style>\n",
              "    table.wandb td:nth-child(1) { padding: 0 10px; text-align: right }\n",
              "    </style><table class=\"wandb\">\n",
              "<tr><td>Epoch</td><td>▁▁▁▁▂▂▂▂▂▃▃▃▃▃▃▄▄▄▄▄▅▅▅▅▅▅▆▆▆▆▆▇▇▇▇▇▇███</td></tr><tr><td>Train Loss</td><td>█▆▃▂▂▂▂▂▂▂▂▂▂▁▂▂▁▂▁▁▁▁▁▁▁▁▁▁▁▁▁▁▁▁▁▁▁▁▁▁</td></tr><tr><td>Train Accuracy</td><td>▁▅▆▇▇▇▇▇▇▇▇▇▇████▇██████████████████████</td></tr><tr><td>Valid Loss</td><td>██▇▇▇▆▅▄▄▄▄▃▃▃▃▂▃▃▂▂▂▂▂▁▂▁▂▁▁▁▂▁▂▁▂▂▁▁▂▁</td></tr><tr><td>Valid Accuracy</td><td>▁▁▁▁▂▂▃▄▄▅▅▅▆▆▆▇▆▆▇▇▆▇▇█▇▇▇█████▇██▇██▇█</td></tr><tr><td>_runtime</td><td>▁▁▁▁▂▂▂▂▂▃▃▃▃▃▃▄▄▄▄▄▅▅▅▅▅▅▆▆▆▆▆▇▇▇▇▇▇███</td></tr><tr><td>_timestamp</td><td>▁▁▁▁▂▂▂▂▂▃▃▃▃▃▃▄▄▄▄▄▅▅▅▅▅▅▆▆▆▆▆▇▇▇▇▇▇███</td></tr><tr><td>_step</td><td>▁▁▁▁▂▂▂▂▂▃▃▃▃▃▃▄▄▄▄▄▅▅▅▅▅▅▆▆▆▆▆▇▇▇▇▇▇███</td></tr></table><br/>"
            ],
            "text/plain": [
              "<IPython.core.display.HTML object>"
            ]
          },
          "metadata": {
            "tags": []
          }
        },
        {
          "output_type": "display_data",
          "data": {
            "text/html": [
              "Synced 5 W&B file(s), 1 media file(s), 0 artifact file(s) and 0 other file(s)"
            ],
            "text/plain": [
              "<IPython.core.display.HTML object>"
            ]
          },
          "metadata": {
            "tags": []
          }
        },
        {
          "output_type": "display_data",
          "data": {
            "text/html": [
              "\n",
              "                    <br/>Synced <strong style=\"color:#cdcd00\">splendid-plant-2</strong>: <a href=\"https://wandb.ai/jamesysato/intro-demo/runs/233hbi20\" target=\"_blank\">https://wandb.ai/jamesysato/intro-demo/runs/233hbi20</a><br/>\n",
              "                "
            ],
            "text/plain": [
              "<IPython.core.display.HTML object>"
            ]
          },
          "metadata": {
            "tags": []
          }
        },
        {
          "output_type": "display_data",
          "data": {
            "text/html": [
              "...Successfully finished last run (ID:233hbi20). Initializing new run:<br/><br/>"
            ],
            "text/plain": [
              "<IPython.core.display.HTML object>"
            ]
          },
          "metadata": {
            "tags": []
          }
        },
        {
          "output_type": "display_data",
          "data": {
            "text/html": [
              "\n",
              "                Tracking run with wandb version 0.10.33<br/>\n",
              "                Syncing run <strong style=\"color:#cdcd00\">cool-glade-3</strong> to <a href=\"https://wandb.ai\" target=\"_blank\">Weights & Biases</a> <a href=\"https://docs.wandb.com/integrations/jupyter.html\" target=\"_blank\">(Documentation)</a>.<br/>\n",
              "                Project page: <a href=\"https://wandb.ai/jamesysato/intro-demo\" target=\"_blank\">https://wandb.ai/jamesysato/intro-demo</a><br/>\n",
              "                Run page: <a href=\"https://wandb.ai/jamesysato/intro-demo/runs/32splvw2\" target=\"_blank\">https://wandb.ai/jamesysato/intro-demo/runs/32splvw2</a><br/>\n",
              "                Run data is saved locally in <code>/content/wandb/run-20210704_193340-32splvw2</code><br/><br/>\n",
              "            "
            ],
            "text/plain": [
              "<IPython.core.display.HTML object>"
            ]
          },
          "metadata": {
            "tags": []
          }
        },
        {
          "output_type": "stream",
          "text": [
            "1\n",
            "2\n",
            "3\n",
            "4\n",
            "5\n",
            "6\n",
            "7\n",
            "8\n",
            "9\n",
            "10\n",
            "11\n",
            "12\n",
            "13\n",
            "14\n",
            "15\n",
            "16\n",
            "17\n",
            "18\n",
            "19\n",
            "20\n",
            "21\n",
            "22\n",
            "23\n",
            "24\n",
            "25\n",
            "26\n",
            "27\n",
            "28\n",
            "29\n",
            "30\n"
          ],
          "name": "stdout"
        }
      ]
    },
    {
      "cell_type": "markdown",
      "metadata": {
        "id": "wFFsZPP5CnKi"
      },
      "source": [
        "# **Task 5**: Lets modify the production data, using augmentation techniques and observe the model metrics with the augmented data. \n",
        "This will give an idea about how \"drft\" occurs in ML model. The goal is to identify is the drift between input and output (concept drift) or because of the data (data drift)."
      ]
    },
    {
      "cell_type": "code",
      "metadata": {
        "id": "BrPY1qT3AZOa"
      },
      "source": [
        "transformations = transforms.Compose([\n",
        "    transforms.Resize((28,28)),\n",
        "    transforms.RandomCrop((28,28), fill=0, padding_mode='constant'),\n",
        "    transforms.RandomHorizontalFlip(),\n",
        "    transforms.RandomErasing(p=1),\n",
        "    transforms.RandomRotation(180)\n",
        "])\n"
      ],
      "execution_count": 14,
      "outputs": []
    },
    {
      "cell_type": "markdown",
      "metadata": {
        "id": "ULFg2fllNELS"
      },
      "source": [
        "## Lets visualize the image transformations. Run the cell underneath a few times and observe the transformations."
      ]
    },
    {
      "cell_type": "markdown",
      "metadata": {
        "id": "ZnG5LIeqw_SC"
      },
      "source": [
        "Matplotlib is used to display the images. We are going to use imshow to display the images after reshaping them in (28,28) size. And then we will add title to images to have more information about them. For information on imshow() see https://matplotlib.org/stable/api/_as_gen/matplotlib.pyplot.imshow.html. \n",
        "For more information on title() see https://matplotlib.org/3.1.1/api/_as_gen/matplotlib.pyplot.title.html \n",
        "To reshape the image, we will use reshape function from numpy. \n",
        "For more information on reshape, see https://numpy.org/doc/stable/reference/generated/numpy.reshape.html"
      ]
    },
    {
      "cell_type": "code",
      "metadata": {
        "colab": {
          "base_uri": "https://localhost:8080/",
          "height": 433
        },
        "id": "lRZOisDUL9sz",
        "outputId": "8248634a-1210-4a1f-fe76-e4bfa14e238b"
      },
      "source": [
        "#Run 3-5 times\n",
        "\n",
        "# We are going to visualize various images with their transformed images.  \n",
        "\n",
        "for batch in prodloader: # Consider a batch of 10 images at a time\n",
        "    images, labels = batch\n",
        "\n",
        "    #Lets get an idea of the \n",
        "    plt.subplot(450+1)\n",
        "    # reshape the actual image to (28,28) dimension using the link provided.\n",
        "    # ADD YOUR CODE TO RESHAPE THE ACTUAL IMAGE HERE\n",
        "    red_images = np.reshape(images, (len(images), 28, 28))\n",
        "\n",
        "    # Plot the actual image from the batch using imshow using the link provided\n",
        "    # ADD YOUR ACTUAL IMAGE PLOT CODE HERE\n",
        "    for i in range(0, len(red_images)-1):\n",
        "        plt.subplot(440+1 + i)\n",
        "        plt.imshow(red_images[i], cmap=plt.get_cmap('gray'))\n",
        "        plt.title(np.array(labels[i]))\n",
        "    plt.show()\n",
        "    \n",
        "\n",
        "    # Transform the images by passing them to transformations function above\n",
        "    # ADD YOUR CODE TO PASS THE IMAGE TO THE transformations function AND GET THE TRANSFORMED IMAGE HERE\n",
        "    plt.subplot(450+1+1)\n",
        "    tran_images = transformations(images)\n",
        "\n",
        "    # reshape the reformed image to (28,28) dimension using the link provided.\n",
        "    # ADD YOUR CODE TO RESHAPE THE TRANSFORMED IMAGE HERE\n",
        "    red_tran_images = np.reshape(tran_images, (len(tran_images), 28, 28))\n",
        "\n",
        "    # Plot the transformed image from the batch using imshow using the link provided\n",
        "    # ADD YOUR TRANSFORMED IMAGE PLOT CODE HERE\n",
        "    for i in range(0, len(red_images)-1):\n",
        "        plt.subplot(440+1 + i)\n",
        "        plt.imshow(red_tran_images[i])\n",
        "        plt.title(np.array(labels[i]))\n",
        "    plt.show()\n",
        "    break\n"
      ],
      "execution_count": 15,
      "outputs": [
        {
          "output_type": "display_data",
          "data": {
            "image/png": "[encoded data removed]",
            "text/plain": [
              "<Figure size 432x288 with 9 Axes>"
            ]
          },
          "metadata": {
            "tags": [],
            "needs_background": "light"
          }
        },
        {
          "output_type": "display_data",
          "data": {
            "image/png": "[encoded data removed]",
            "text/plain": [
              "<Figure size 432x288 with 9 Axes>"
            ]
          },
          "metadata": {
            "tags": [],
            "needs_background": "light"
          }
        }
      ]
    },
    {
      "cell_type": "markdown",
      "metadata": {
        "id": "Dtp_lvdsxv38"
      },
      "source": [
        "We are going to log the output in Weights and Biases. For more information on how to log in Weights and Biases see https://docs.wandb.ai/ref/python/log"
      ]
    },
    {
      "cell_type": "code",
      "metadata": {
        "colab": {
          "base_uri": "https://localhost:8080/"
        },
        "id": "sQl7F6rqFXlo",
        "outputId": "94917156-69d8-4c1c-d443-6ecdc4e6ac58"
      },
      "source": [
        "num_epochs = 30\n",
        "\n",
        "for epoch in range(1, num_epochs+1):\n",
        "  #Next lets declare the metrics to monitor at production time\n",
        "  # Initialize all the matrics that we are goint to monitor here. \n",
        "  # Initialize accuracy, number of correct predictions, start time, minimum batch output, maximum batch output and number of batches here. \n",
        "  # NOTE: Current time can be calculated using time.time() function. Here, the start_time would be current time.\n",
        "  accuracy = num_correct = num_batches = total_images = 0\n",
        "  min_batch_op = max_batch_op = []\n",
        "  start_time = time.time()\n",
        "\n",
        "  print(epoch)\n",
        "\n",
        "\n",
        "  ## Monitor the same metrics in Task 4 with augenmented test data\n",
        "  for batch in prodloader: # Consider a batch of 10 images at a time\n",
        "    images, labels = batch\n",
        "    images=transformations(images)    \n",
        "    images = images.to(device)\n",
        "    labels = labels.to(device)\n",
        "    # We are trying to calculate the total number of images for the test. \n",
        "    # ADD YOUR CODE TO CALCULATE TOTAL NUMBER OF IMAGES IN THE TEST SET\n",
        "    total_images += len(images)\n",
        "\n",
        "    # We are going to get the predictions for the images from the network here.\n",
        "    # ADD YOUR CODE TO PASS IMAGES PER BATCH TO THE NETWORK HERE\n",
        "    pred = network(images)\n",
        "\n",
        "    pred_batch=sorted(pred.argmax(dim=1).cpu().numpy())\n",
        "\n",
        "    # We are going to calculate the number of outcomes for each prediction batch using count_outcomes function declared earlier.\n",
        "    #ADD YOUR CODE HERE TO COUNT THE NUMBER OF OUTCOMES USING count_outcomes FOR prediction batch HERE\n",
        "    num_batch = sum(count_outcomes(pred_batch))\n",
        "    \n",
        "    num_batches=num_batches+num_batch\n",
        "    num_correct_batch = pred.argmax(dim = 1).eq(labels).sum().item()\n",
        "    accuracy_batch = pred.argmax(dim = 1).eq(labels).float().mean().item()\n",
        "    num_correct +=num_correct_batch\n",
        "    accuracy += accuracy_batch\n",
        "    max_val=np.max(pred.max(dim=1).values.cpu().detach().numpy())\n",
        "    min_val=np.min(pred.min(dim=1).values.cpu().detach().numpy())\n",
        "    max_batch_op.append(max_val)\n",
        "    min_batch_op.append(min_val)\n",
        " \n",
        "  batch_time=time.time() - start_time\n",
        "  #print(num_correct, accuracy/len(prodloader), batch_time, num_batches, max(max_batch_op),min(min_batch_op))\n",
        "\n",
        "\n",
        "  \n",
        "  # Log the metrics defined earlier \n",
        "    # ADD THE LOGING CODE FOR METRICS HERE BY REFERING THE LINK PROVIDED\n",
        "    # THE VALUES THAT WE ARE LOGING ARE batch time, number of current predictions, batch accuracy, maximum batch output, minimum batch output, number of predictions for each batch.\n",
        "  wandb.log(\n",
        "        {'Epoch Time': batch_time, 'Number of Correct Predictions': num_correct, 'Epoch Accuracy': accuracy, 'Max Epoch Output': max(max_batch_op), 'Min Epoch Output': min(min_batch_op), 'Number of Predictions': num_batches}\n",
        "  )"
      ],
      "execution_count": 16,
      "outputs": [
        {
          "output_type": "stream",
          "text": [
            "1\n",
            "2\n",
            "3\n",
            "4\n",
            "5\n",
            "6\n",
            "7\n",
            "8\n",
            "9\n",
            "10\n",
            "11\n",
            "12\n",
            "13\n",
            "14\n",
            "15\n",
            "16\n",
            "17\n",
            "18\n",
            "19\n",
            "20\n",
            "21\n",
            "22\n",
            "23\n",
            "24\n",
            "25\n",
            "26\n",
            "27\n",
            "28\n",
            "29\n",
            "30\n"
          ],
          "name": "stdout"
        }
      ]
    },
    {
      "cell_type": "markdown",
      "metadata": {
        "id": "iXzd6L0AR0qN"
      },
      "source": [
        "# Notice how the monitoring curves have changed, thus showing that there is a drift and two follow ups should happen:\n",
        "* ML model must be retrained with the transformed images\n",
        "* If an ML model is trained with upright images only, checks must be done at run-time to prevent transformed images to be applied as test data.\n",
        "\n",
        "## Summarize all your findings below and think of how you will devise production-time metrics.\n",
        "\n",
        "With classifier problems, it is arithmetically simple to calculate metrics that would help us keep track of data and concept skew. Using rolling average outputs during production-time on metrics such as prediction latency, minimum and maximum outputs, output ratio over time, and downstream prediction accuracy/click-through metrics could indicate to us when we are experiencing data and concept skew.\n",
        "\n",
        "It appears silly that many AI systems might not be producing enough training time metrics to compare to production metrics. It makes sense to me that a successful MLOps team would standardize performance metrics early on to ensure that we can generate comparative metrics at training time. Building this into software development standards for the ML workflow will ensure that even an overloaded MLOps team would be able to promptly check model performance and prioritize most severe cases over minimal skew."
      ]
    }
  ]
}